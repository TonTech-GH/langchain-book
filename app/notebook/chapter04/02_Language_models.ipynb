{
 "cells": [
  {
   "cell_type": "markdown",
   "id": "db245285-3d82-4e94-83e9-7e6608033131",
   "metadata": {},
   "source": [
    "# Language models\n",
    "- 言語モデルの使用方法を提供するモジュール\n",
    "- 様々な言語モデルを共通のインターフェースで使用できるようにしてくれる"
   ]
  },
  {
   "cell_type": "markdown",
   "id": "5e841c71-2067-473e-8546-95f07325820e",
   "metadata": {},
   "source": [
    "## LLMs\n",
    "- 1つの入力テキストに対して1つのテキスト出力を返す\n",
    "- すでに Legacy なので詳細は割愛"
   ]
  },
  {
   "cell_type": "markdown",
   "id": "fa441268-a2a7-49ed-8bb3-53508e65b21c",
   "metadata": {},
   "source": [
    "## Chat models\n",
    "- チャット形式のやり取りを入力して応答を得られる\n",
    "\n",
    "#### 本の時点からのバージョンアップによる更新点\n",
    "- 元々 langchain本体に入っていたものが、OpenAI専用パッケージ `langchain_openai` に外出しされた\n",
    "    ```python\n",
    "    # Before\n",
    "    from langchain.chat_models import ChatOpenAI\n",
    "\n",
    "    # After\n",
    "    from langchain_openai.chat_models import ChatOpenAI\n",
    "    # これでもOK\n",
    "    from langchain_openai import ChatOpenAI\n",
    "    ```"
   ]
  },
  {
   "cell_type": "code",
   "execution_count": 11,
   "id": "fb678032-3de4-406f-852f-db1454391329",
   "metadata": {},
   "outputs": [
    {
     "name": "stdout",
     "output_type": "stream",
     "text": [
      "素晴らしい選択です！キャベツと玉ねぎを使った簡単で美味しい晩ご飯のレシピをお伝えします。\n",
      "\n",
      "## キャベツと玉ねぎの炒め物\n",
      "\n",
      "### 材料:\n",
      "- キャベツ: 1/4個（適量）\n",
      "- 玉ねぎ: 1個\n",
      "- 醤油: 大さじ2\n",
      "- みりん: 大さじ1\n",
      "- ごま油: 小さじ1\n",
      "- ごま: 適量\n",
      "\n",
      "### 作り方:\n",
      "1. キャベツはざく切り、玉ねぎは薄切りにする。\n",
      "2. フライパンにごま油を熱し、玉ねぎを炒める。\n",
      "3. 玉ねぎがしんなりしたらキャベツを加えてさっと炒める。\n",
      "4. 醤油とみりんを加えて全体に絡める。\n",
      "5. ごまをふりかけて完成！\n",
      "\n",
      "ぜひお試しください！\n"
     ]
    }
   ],
   "source": [
    "from langchain_openai.chat_models import ChatOpenAI\n",
    "from langchain.schema import AIMessage, HumanMessage, SystemMessage\n",
    "\n",
    "chat = ChatOpenAI(\n",
    "    model_name='gpt-3.5-turbo',\n",
    "    temperature=0,\n",
    ")\n",
    "\n",
    "messages = [\n",
    "    SystemMessage(content='あなたは素人にも簡単に作れるレシピをたくさん知っているプロの料理家です。'),\n",
    "    HumanMessage(content='ユーザーに使いたい食材を質問してください。ユーザーが答えた食材を使って簡単で美味しく作れる晩御飯のレシピを教えてください。出力はマークダウン形式でお願いします。'),\n",
    "    AIMessage(content='どんな食材を使いたいですか？'),\n",
    "    HumanMessage(content='キャベツと玉ねぎです'),\n",
    "]\n",
    "\n",
    "result = chat(messages)\n",
    "print(result.content)"
   ]
  },
  {
   "cell_type": "markdown",
   "id": "c469fe0a-44eb-49e8-a138-e7701c0f9e39",
   "metadata": {},
   "source": [
    "## Callbackを使ったストリーミング\n",
    "- 応答結果は通常、すべての出力が出揃うまで待ってから一括で取得される\n",
    "- それをストリーミングで少しずつ取得することができる"
   ]
  },
  {
   "cell_type": "code",
   "execution_count": 12,
   "id": "f5eb89a7-a135-45da-a3bb-cf6391e133a1",
   "metadata": {},
   "outputs": [
    {
     "name": "stdout",
     "output_type": "stream",
     "text": [
      "素早く作れて美味しい「キャベツと玉ねぎの炒め物」のレシピをご紹介します。\n",
      "\n",
      "### キャベツと玉ねぎの炒め物\n",
      "\n",
      "#### 材料:\n",
      "- キャベツ: 1/4個（適量）\n",
      "- 玉ねぎ: 1個\n",
      "- 醤油: 大さじ2\n",
      "- みりん: 大さじ1\n",
      "- ごま油: 小さじ1\n",
      "- お好みでごまや唐辛子を加えるとアクセントになります。\n",
      "\n",
      "#### 作り方:\n",
      "1. キャベツはざく切り、玉ねぎは薄切りにする。\n",
      "2. フライパンにごま油を熱し、玉ねぎを炒める。\n",
      "3. 玉ねぎがしんなりしたらキャベツを加えてさっと炒める。\n",
      "4. 醤油とみりんを加えて全体に絡める。\n",
      "5. お皿に盛り付けて、ごまや唐辛子をふりかける。\n",
      "\n",
      "簡単でヘルシーな一品です。お好みでご飯のお供や麺類と一緒に食べるのもおすすめです。"
     ]
    }
   ],
   "source": [
    "from langchain.callbacks.streaming_stdout import StreamingStdOutCallbackHandler  # ★ポイント！！\n",
    "from langchain_openai.chat_models import ChatOpenAI\n",
    "from langchain.schema import AIMessage, HumanMessage, SystemMessage\n",
    "\n",
    "chat = ChatOpenAI(\n",
    "    model_name='gpt-3.5-turbo',\n",
    "    temperature=0,\n",
    "    streaming=True,  # ★ポイント！！\n",
    "    callbacks=[StreamingStdOutCallbackHandler()],  # ★ポイント！！\n",
    ")\n",
    "\n",
    "messages = [\n",
    "    SystemMessage(content='あなたは素人にも簡単に作れるレシピをたくさん知っているプロの料理家です。'),\n",
    "    HumanMessage(content='ユーザーに使いたい食材を質問してください。ユーザーが答えた食材を使って簡単で美味しく作れる晩御飯のレシピを教えてください。出力はマークダウン形式でお願いします。'),\n",
    "    AIMessage(content='どんな食材を使いたいですか？'),\n",
    "    HumanMessage(content='キャベツと玉ねぎです'),\n",
    "]\n",
    "\n",
    "# ここで標準出力に少しずつ結果が表示される\n",
    "result = chat(messages)"
   ]
  },
  {
   "cell_type": "markdown",
   "id": "27a2da30-014e-47d4-86f6-10132f4b4a7b",
   "metadata": {},
   "source": [
    "## async streamで頑張ってみる\n",
    "- 標準出力だとアプリケーションで使いづらいため"
   ]
  },
  {
   "cell_type": "code",
   "execution_count": 13,
   "id": "8e7153f2-1488-4230-b60d-812dc61b0935",
   "metadata": {},
   "outputs": [
    {
     "name": "stdout",
     "output_type": "stream",
     "text": [
      "キャベツと玉ねぎを使った簡単で美味しい晩ご飯のレシピをご紹介します。\n",
      "\n",
      "## キャベツと玉ねぎの炒め物\n",
      "\n",
      "### 材料:\n",
      "- キャベツ: 1/4個\n",
      "- 玉ねぎ: 1個\n",
      "- 醤油: 大さじ2\n",
      "- みりん: 大さじ1\n",
      "- ごま油: 小さじ1\n",
      "- 塩、こしょう: 適量\n",
      "\n",
      "### 作り方:\n",
      "1. キャベツはざく切り、玉ねぎは薄切りにする。\n",
      "2. フライパンにごま油を熱し、玉ねぎを炒める。\n",
      "3. 玉ねぎがしんなりしたらキャベツを加えてさっと炒める。\n",
      "4. 醤油、みりんを加えて全体に味をなじませる。\n",
      "5. 塩、こしょうで味を調えて完成。\n",
      "\n",
      "ぜひお試しください！\n",
      "\n",
      "\n",
      "----------------------------------------------------------------------\n",
      "キャベツと玉ねぎを使った簡単で美味しい晩ご飯のレシピをご紹介します。\n",
      "\n",
      "## キャベツと玉ねぎの炒め物\n",
      "\n",
      "### 材料:\n",
      "- キャベツ: 1/4個\n",
      "- 玉ねぎ: 1個\n",
      "- 醤油: 大さじ2\n",
      "- みりん: 大さじ1\n",
      "- ごま油: 小さじ1\n",
      "- 塩、こしょう: 適量\n",
      "\n",
      "### 作り方:\n",
      "1. キャベツはざく切り、玉ねぎは薄切りにする。\n",
      "2. フライパンにごま油を熱し、玉ねぎを炒める。\n",
      "3. 玉ねぎがしんなりしたらキャベツを加えてさっと炒める。\n",
      "4. 醤油、みりんを加えて全体に味をなじませる。\n",
      "5. 塩、こしょうで味を調えて完成。\n",
      "\n",
      "ぜひお試しください！\n"
     ]
    }
   ],
   "source": [
    "import asyncio\n",
    "\n",
    "chat = ChatOpenAI(\n",
    "    model_name='gpt-3.5-turbo',\n",
    "    temperature=0,\n",
    ")\n",
    "\n",
    "messages = [\n",
    "    SystemMessage(content='あなたは素人にも簡単に作れるレシピをたくさん知っているプロの料理家です。'),\n",
    "    HumanMessage(content='ユーザーに使いたい食材を質問してください。ユーザーが答えた食材を使って簡単で美味しく作れる晩御飯のレシピを教えてください。出力はマークダウン形式でお願いします。'),\n",
    "    AIMessage(content='どんな食材を使いたいですか？'),\n",
    "    HumanMessage(content='キャベツと玉ねぎです'),\n",
    "]\n",
    "\n",
    "# async_generator生成\n",
    "res = chat.astream(messages)  # ★ポイント！！\n",
    "\n",
    "\n",
    "async def stream():\n",
    "    \"\"\"非同期generatorから少しずつ結果を取得する\"\"\"\n",
    "    result = []\n",
    "    async for msg in res:  # ★ポイント！！\n",
    "        text = msg.content \n",
    "        print(text, end='')\n",
    "        result.append(text)\n",
    "    return ''.join(result)\n",
    "\n",
    "\n",
    "text = await stream()\n",
    "print('\\n\\n\\n' + '-'*70)\n",
    "print(text)"
   ]
  },
  {
   "cell_type": "code",
   "execution_count": null,
   "id": "38cae66f-64f2-4400-b6d0-48b151bbeebb",
   "metadata": {},
   "outputs": [],
   "source": []
  }
 ],
 "metadata": {
  "kernelspec": {
   "display_name": "Python 3 (ipykernel)",
   "language": "python",
   "name": "python3"
  },
  "language_info": {
   "codemirror_mode": {
    "name": "ipython",
    "version": 3
   },
   "file_extension": ".py",
   "mimetype": "text/x-python",
   "name": "python",
   "nbconvert_exporter": "python",
   "pygments_lexer": "ipython3",
   "version": "3.12.1"
  }
 },
 "nbformat": 4,
 "nbformat_minor": 5
}
