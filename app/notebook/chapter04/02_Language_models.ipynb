{
 "cells": [
  {
   "cell_type": "markdown",
   "id": "db245285-3d82-4e94-83e9-7e6608033131",
   "metadata": {},
   "source": [
    "# Language models\n",
    "- 言語モデルの使用方法を提供するモジュール\n",
    "- 様々な言語モデルを共通のインターフェースで使用できるようにしてくれる"
   ]
  },
  {
   "cell_type": "markdown",
   "id": "5e841c71-2067-473e-8546-95f07325820e",
   "metadata": {},
   "source": [
    "## LLMs\n",
    "- 1つの入力テキストに対して1つのテキスト出力を返す\n",
    "- すでに Legacy なので詳細は割愛"
   ]
  },
  {
   "cell_type": "markdown",
   "id": "fa441268-a2a7-49ed-8bb3-53508e65b21c",
   "metadata": {},
   "source": [
    "## Chat models\n",
    "- チャット形式のやり取りを入力して応答を得られる\n",
    "\n",
    "#### バージョンアップで本の時点からの更新点\n",
    "- 元々 langchain本体に入っていたものが、OpenAI専用パッケージ `langchain_openai` に外出しされた\n",
    "    - from `langchain`.chat_models import ChatOpenAI\n",
    "    - ↓↓↓\n",
    "    - from `langchain_openai`.chat_models import ChatOpenAI"
   ]
  },
  {
   "cell_type": "code",
   "execution_count": 2,
   "id": "fb678032-3de4-406f-852f-db1454391329",
   "metadata": {},
   "outputs": [
    {
     "name": "stdout",
     "output_type": "stream",
     "text": [
      "\n",
      "------------------------------\n",
      "## キャベツと玉ねぎの簡単炒め物\n",
      "\n",
      "### 材料:\n",
      "- キャベツ: 1/4個\n",
      "- 玉ねぎ: 1個\n",
      "- 醤油: 大さじ2\n",
      "- ごま油: 小さじ1\n",
      "- 塩、こしょう: 適量\n",
      "\n",
      "### 手順:\n",
      "1. キャベツは千切りに、玉ねぎは薄切りにする。\n",
      "2. フライパンにごま油を熱し、玉ねぎを炒める。\n",
      "3. 玉ねぎがしんなりしたらキャベツを加えてさっと炒める。\n",
      "4. 醤油を加えて全体に絡め、塩とこしょうで味を調える。\n",
      "5. お皿に盛り付けて完成。\n",
      "\n",
      "簡単で美味しいキャベツと玉ねぎの炒め物の完成です。お好みでご飯と一緒にどうぞ！\n"
     ]
    }
   ],
   "source": [
    "from langchain_openai.chat_models import ChatOpenAI\n",
    "from langchain.schema import AIMessage, HumanMessage, SystemMessage\n",
    "\n",
    "chat = ChatOpenAI(\n",
    "    model_name='gpt-3.5-turbo',\n",
    "    temperature=0,\n",
    ")\n",
    "\n",
    "messages = [\n",
    "    SystemMessage(content='あなたは素人にも簡単に作れるレシピをたくさん知っているプロの料理家です。'),\n",
    "    HumanMessage(content='食材はキャベツと玉ねぎがあります。簡単で美味しく作れる晩御飯のレシピを教えてください。出力はマークダウン形式でお願いします。'),\n",
    "]\n",
    "\n",
    "result = chat(messages)\n",
    "print('\\n' + '-'*30)\n",
    "print(result.content)\n"
   ]
  },
  {
   "cell_type": "code",
   "execution_count": null,
   "id": "44aa70e4-f7aa-4e88-adf4-3dc17c4e4f57",
   "metadata": {},
   "outputs": [],
   "source": []
  }
 ],
 "metadata": {
  "kernelspec": {
   "display_name": "Python 3 (ipykernel)",
   "language": "python",
   "name": "python3"
  },
  "language_info": {
   "codemirror_mode": {
    "name": "ipython",
    "version": 3
   },
   "file_extension": ".py",
   "mimetype": "text/x-python",
   "name": "python",
   "nbconvert_exporter": "python",
   "pygments_lexer": "ipython3",
   "version": "3.12.1"
  }
 },
 "nbformat": 4,
 "nbformat_minor": 5
}
