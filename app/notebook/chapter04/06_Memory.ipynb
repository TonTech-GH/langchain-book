{
 "cells": [
  {
   "cell_type": "markdown",
   "id": "c90b746b-7ef3-4c9c-b31b-24a7fa3e6d13",
   "metadata": {},
   "source": [
    "# Memory\n",
    "- 会話履歴の保存などの便利機能を提供\n",
    "    - Chat Completions APIはステートレス"
   ]
  },
  {
   "cell_type": "markdown",
   "id": "6248cfe7-1646-427e-a59e-b7c313dd709d",
   "metadata": {},
   "source": [
    "## ConversationBufferMemory\n",
    "- 会話履歴の保存"
   ]
  },
  {
   "cell_type": "code",
   "execution_count": 2,
   "id": "7ee3210e-5259-4198-a6c6-9a60e9b181c1",
   "metadata": {},
   "outputs": [
    {
     "name": "stdin",
     "output_type": "stream",
     "text": [
      "You(finished to exit):  ゲーム「パルワールド」の概要を教えて。もし適切な回答が見つからない場合は「回答が見つかりません。」と出力してください。\n"
     ]
    },
    {
     "name": "stderr",
     "output_type": "stream",
     "text": [
      "/usr/local/lib/python3.12/site-packages/langchain_core/_api/deprecation.py:117: LangChainDeprecationWarning: The function `run` was deprecated in LangChain 0.1.0 and will be removed in 0.2.0. Use invoke instead.\n",
      "  warn_deprecated(\n"
     ]
    },
    {
     "name": "stdout",
     "output_type": "stream",
     "text": [
      "AI: 「パルワールド」は、恐竜をテーマにした新しいゲームです。プレイヤーは恐竜を育てたり、戦わせたりすることができます。ゲーム内ではさまざまな種類の恐竜が登場し、それぞれ特徴や能力が異なります。また、恐竜たちを研究して新たな発見をすることもできます。ゲームの舞台は美しいオープンワールドで、自由に探検することができます。回答が見つかりません。\n"
     ]
    },
    {
     "name": "stdin",
     "output_type": "stream",
     "text": [
      "You(finished to exit):  回答は\n"
     ]
    },
    {
     "name": "stdout",
     "output_type": "stream",
     "text": [
      "AI: 申し訳ありませんが、回答が見つかりません。\n"
     ]
    },
    {
     "name": "stdin",
     "output_type": "stream",
     "text": [
      "You(finished to exit):  最初の\n"
     ]
    },
    {
     "name": "stdout",
     "output_type": "stream",
     "text": [
      "AI: 申し訳ありませんが、回答が見つかりません。\n"
     ]
    },
    {
     "name": "stdin",
     "output_type": "stream",
     "text": [
      "You(finished to exit):  最初の回答は、回答が見つかったのか見つからなかったのかどちらですか？\n"
     ]
    },
    {
     "name": "stdout",
     "output_type": "stream",
     "text": [
      "AI: 最初の回答は、見つかりませんでした。\n"
     ]
    },
    {
     "name": "stdin",
     "output_type": "stream",
     "text": [
      "You(finished to exit):  finished\n"
     ]
    }
   ],
   "source": [
    "from langchain.chains import ConversationChain\n",
    "from langchain.memory import ConversationBufferMemory\n",
    "from langchain_openai import ChatOpenAI\n",
    "\n",
    "chat = ChatOpenAI(\n",
    "    model_name='gpt-3.5-turbo',\n",
    "    temperature=0,\n",
    ")\n",
    "\n",
    "conversation = ConversationChain(\n",
    "    llm=chat,\n",
    "    memory=ConversationBufferMemory()\n",
    ")\n",
    "\n",
    "while True:\n",
    "    user_message = input('You(finished to exit): ')\n",
    "    if user_message == 'finished':\n",
    "        break\n",
    "    ai_message = conversation.run(input=user_message)\n",
    "    print(f'AI: {ai_message}')"
   ]
  },
  {
   "cell_type": "markdown",
   "id": "88e8f350-a5ca-40f8-af0b-24d2559568fa",
   "metadata": {},
   "source": [
    "## その他のMemory\n",
    "- プロンプトの長さには制約があるため、すべての会話履歴をプロンプトに含めることができない場合がある\n",
    "- プロンプトに含める会話履歴を選りすぐる機能を持つMemoryが様々ある\n",
    "\n",
    "| Memoryクラス                    | 概要                                                             |\n",
    "| ------------------------------- | ---------------------------------------------------------------- |\n",
    "| ConversationBufferMemory        | 会話履歴を保存する                                               |\n",
    "| ConversationBufferWindowMemory  | 直近K個の会話だけをプロンプトに含める                            |\n",
    "| ConversationSummaryMemory       | LLMを使って会話履歴を要約する                                    |\n",
    "| ConversationSummaryBufferMemory | 直近の会話はそのままプロンプトに含めるが、古い会話内容は要約する |\n",
    "| ConversationTokenBufferMemory   | 指定したトークン数までの会話だけをプロンプトに含める             |\n",
    "| VectorStoreRetrieverMemory      | Vector Storeを応用して、会話履歴のうち入力に関連するK個のテキストだけをプロンプトに含める |"
   ]
  },
  {
   "cell_type": "markdown",
   "id": "27a0c26f-eea9-4c52-8546-5249738d5d82",
   "metadata": {},
   "source": [
    "## Memoryのデータ保存先\n",
    "- デフォルトはメモリ上\n",
    "    - プロセスが停止したら消える\n",
    "    - 複数プロセス・サーバーで負荷分散しているとうまく動作しない\n",
    "    - サーバレス(AWS Lambda / Google Cloud Run 等)で実行している場合にうまく動かない\n",
    "- その他指定可能な保存先\n",
    "    - DB(SQLite, PostgreSQL, 等)"
   ]
  },
  {
   "cell_type": "code",
   "execution_count": null,
   "id": "87256c96-aaa1-4e39-9832-b3429f4d51ab",
   "metadata": {},
   "outputs": [],
   "source": []
  }
 ],
 "metadata": {
  "kernelspec": {
   "display_name": "Python 3 (ipykernel)",
   "language": "python",
   "name": "python3"
  },
  "language_info": {
   "codemirror_mode": {
    "name": "ipython",
    "version": 3
   },
   "file_extension": ".py",
   "mimetype": "text/x-python",
   "name": "python",
   "nbconvert_exporter": "python",
   "pygments_lexer": "ipython3",
   "version": "3.12.1"
  }
 },
 "nbformat": 4,
 "nbformat_minor": 5
}
