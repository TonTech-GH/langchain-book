{
 "cells": [
  {
   "cell_type": "markdown",
   "id": "db245285-3d82-4e94-83e9-7e6608033131",
   "metadata": {},
   "source": [
    "# LangChainの概要"
   ]
  },
  {
   "cell_type": "code",
   "execution_count": 1,
   "id": "9f30468d-6030-4616-8220-06225cfe77a9",
   "metadata": {},
   "outputs": [
    {
     "name": "stdout",
     "output_type": "stream",
     "text": [
      "langchain                 0.1.9\n",
      "langchain-community       0.0.24\n",
      "langchain-core            0.1.27\n",
      "langchain-openai          0.0.7\n",
      "openai                    1.12.0\n"
     ]
    }
   ],
   "source": [
    "# 今回使用したライブラリのバージョン\n",
    "!pip list | grep 'langchain\\|openai'"
   ]
  },
  {
   "cell_type": "code",
   "execution_count": null,
   "id": "dd27b119-35e7-4787-ab3f-832b1343e3e6",
   "metadata": {},
   "outputs": [],
   "source": []
  }
 ],
 "metadata": {
  "kernelspec": {
   "display_name": "Python 3 (ipykernel)",
   "language": "python",
   "name": "python3"
  },
  "language_info": {
   "codemirror_mode": {
    "name": "ipython",
    "version": 3
   },
   "file_extension": ".py",
   "mimetype": "text/x-python",
   "name": "python",
   "nbconvert_exporter": "python",
   "pygments_lexer": "ipython3",
   "version": "3.12.1"
  }
 },
 "nbformat": 4,
 "nbformat_minor": 5
}
