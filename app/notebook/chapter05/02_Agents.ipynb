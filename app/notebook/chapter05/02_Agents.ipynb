{
 "cells": [
  {
   "cell_type": "markdown",
   "id": "10de00cd-50f0-4cd3-b563-9d5a4cd8b3e2",
   "metadata": {},
   "source": [
    "# Agents\n",
    "- AIエージェントを実装するためのモジュール\n",
    "- ユーザーの入力内容を踏まえて処理の流れを変える\n",
    "    - 社内文書をVector Storeから検索\n",
    "    - Web上の情報を検索して回答\n",
    "    - etc..\n",
    "- Function Callingとは違う\n",
    "    - Function Calling機能を持たないモデルでもAgentsは実装可能"
   ]
  },
  {
   "cell_type": "code",
   "execution_count": 1,
   "id": "432ddc2e-0667-4c79-b7e0-3334341679fb",
   "metadata": {},
   "outputs": [
    {
     "name": "stderr",
     "output_type": "stream",
     "text": [
      "/usr/local/lib/python3.12/site-packages/langchain_core/_api/deprecation.py:117: LangChainDeprecationWarning: The function `initialize_agent` was deprecated in LangChain 0.1.0 and will be removed in 0.2.0. Use Use new agent constructor methods like create_react_agent, create_json_agent, create_structured_chat_agent, etc. instead.\n",
      "  warn_deprecated(\n",
      "/usr/local/lib/python3.12/site-packages/langchain_core/_api/deprecation.py:117: LangChainDeprecationWarning: The function `run` was deprecated in LangChain 0.1.0 and will be removed in 0.2.0. Use invoke instead.\n",
      "  warn_deprecated(\n",
      "/usr/local/lib/python3.12/site-packages/langchain_community/tools/shell/tool.py:32: UserWarning: The shell tool has no safeguards by default. Use at your own risk.\n",
      "  warnings.warn(\n"
     ]
    },
    {
     "name": "stdout",
     "output_type": "stream",
     "text": [
      "Executing command:\n",
      " ls sample_data\n",
      "fuga.txt, hoge.txt, ほげほげ.txt\n"
     ]
    }
   ],
   "source": [
    "# Agentsを使ってコマンドを実行し、指定ディレクトリのファイル一覧を得る\n",
    "from langchain.agents import AgentType, initialize_agent, load_tools\n",
    "from langchain_openai import ChatOpenAI\n",
    "\n",
    "chat = ChatOpenAI(\n",
    "    model_name='gpt-3.5-turbo',\n",
    "    temperature=0,\n",
    ")\n",
    "\n",
    "# Bash等のコマンド実行ツールをツールとして準備\n",
    "tools = load_tools(['terminal'])\n",
    "\n",
    "# zero-shot-react-descriptionという種類のAgent\n",
    "agent_chain = initialize_agent(\n",
    "    tools,\n",
    "    chat,\n",
    "    agent=AgentType.ZERO_SHOT_REACT_DESCRIPTION,\n",
    ")\n",
    "\n",
    "result = agent_chain.run('sample_dataディレクトリにあるファイルの一覧を教えて')\n",
    "print(result)"
   ]
  },
  {
   "cell_type": "markdown",
   "id": "2733eaa5-b245-48d8-b434-9f4f8327d5db",
   "metadata": {},
   "source": [
    "## ReAct\n",
    "- ReAct = Reasoning ＋ Acting からなる造語\n",
    "- LLMに　`思考(理由)→行動`　をくり返させ、最終的に精度の高い回答を得ようとするテクニック\n",
    "- 行動の際に、LLMが持っている（学習済みの）知識だけでなく、その他の情報（Webやツール等）の活用が含まれる\n",
    "    - Shellコマンドの実行\n",
    "    - Web検索\n",
    "    - etc..\n",
    "- 以下のようなシーケンス\n",
    "    1. タスクへの出力を生成するために必要な 行動（Act）とその 理由（Reason）を思考する。\n",
    "    1. この思考をもとに行動し結果を得る\n",
    "    1. 再度次に必要な行動とその理由を思考する\n",
    "    1. 上記の思考→行動を繰り返し、ファイナルアンサーが生成できた時点で終了する\n"
   ]
  },
  {
   "cell_type": "markdown",
   "id": "d8c57ca4-5581-4b6f-82b1-4818e57e3b18",
   "metadata": {},
   "source": [
    "#### ディレクトリにあるファイル一覧を取得した例\n",
    "1. `思考→行動→観測` を繰り返すことと `使用できるツール` をLLMに投げる\n",
    "    ```\n",
    "    Answer the following question as best you can. You have access to the following tools:\n",
    "\n",
    "    terminal: Run shell commands on this Linux machine.\n",
    "\n",
    "    Use the following format:\n",
    "\n",
    "    Question: the input question you must answer\n",
    "    Thought: you should always think about what to do\n",
    "    Action: the action to take, should be one of [terminal]\n",
    "    Action Input: the input to the action\n",
    "    Observation: the result of the action\n",
    "    ... (this Thought/Action/Action Input/Observation can repeat N times)\n",
    "    Thought: I now knwo the final answer\n",
    "    Final Answer: the final answer to the original input question\n",
    "\n",
    "    Begin!\n",
    "\n",
    "    Question: sample_dataディレクトリにあるファイルの一覧を教えて\n",
    "    Thought:\n",
    "    ```\n",
    "1. LLMから思考(理由) + 行動が応答される\n",
    "    ```\n",
    "    I need to list the files in the sample_data directory.\n",
    "    Action: terminal\n",
    "    Action Input: ls sample_data\n",
    "    ```\n",
    "1. LangChainのAgentが行動方法(ツール)とInputを抽出\n",
    "    - 行動方法: terminal\n",
    "    - Input: ls sample_data\n",
    "\n",
    "1. LangChainのAgentがツールを実行\n",
    "    - ls sample_data を実行しファイル一覧を得る\n",
    "\n",
    "1. LLMに行動結果を追加したプロンプトを投げる\n",
    "    ```\n",
    "    Answer the following question as best you can. You have access to the following tools:\n",
    "\n",
    "    terminal: Run shell commands on this Linux machine.\n",
    "\n",
    "    Use the following format:\n",
    "\n",
    "    Question: the input question you must answer\n",
    "    Thought: you should always think about what to do\n",
    "    Action: the action to take, should be one of [terminal]\n",
    "    Action Input: the input to the action\n",
    "    Observation: the result of the action\n",
    "    ... (this Thought/Action/Action Input/Observation can repeat N times)\n",
    "    Thought: I now knwo the final answer\n",
    "    Final Answer: the final answer to the original input question\n",
    "\n",
    "    Begin!\n",
    "\n",
    "    Question: sample_dataディレクトリにあるファイルの一覧を教えて\n",
    "    Thought: I need to list the files in the sample_data directory.\n",
    "    Action: terminal\n",
    "    Action Input: ls sample_data\n",
    "    Observation: fuga.txt\n",
    "    hoge.txt\n",
    "    ほげほげ.txt\n",
    "\n",
    "    Thought:\n",
    "    ```\n",
    "\n",
    "1. LLMから思考と最終回答が応答される\n",
    "    ```\n",
    "    I now know the files in the sample_data directory.\n",
    "    Final Answer: fuga.txt, hoge.txt, ほげほげ.txt\n",
    "    ```\n",
    "\n",
    "1. LangChainのAgentがFinal Answer: の箇所を最終的な回答として抽出"
   ]
  },
  {
   "cell_type": "markdown",
   "id": "ec36b5bf-267f-4fff-a334-aaea7037c4d0",
   "metadata": {},
   "source": [
    "## Tools\n",
    "- 以下のようなツールが使用可能\n",
    "| Tool          | 概要                   |\n",
    "| ------------- | ---------------------- |\n",
    "| terminal      | シェルでコマンドを実行 |\n",
    "| Python_REPL   | Pythonのコードを実行   |\n",
    "| google_search | Googleで検索する       |\n",
    "| Wikipedia     | Wikipediaを検索する    |\n",
    "| human         | 人間に入力させる       |\n",
    "\n",
    "- 実態は単なるPythonの関数\n",
    "    - 自作も可能\n",
    "    - 任意の関数をツールとして指定できるので、Chainsを指定することも可能\n",
    "- ツール次第で任意のコマンド・プログラム・SQL等が実行できてしまう\n",
    "    - 危険なので使用時は要注意\n",
    "    - 実行前に人間がチェックする Human-in-the-loopを使うのも手\n",
    "        - HumanApprovalCallbackHandler"
   ]
  },
  {
   "cell_type": "code",
   "execution_count": 3,
   "id": "4cb3b4ab-0739-4384-94ef-06499beb51c5",
   "metadata": {},
   "outputs": [],
   "source": [
    "# 文章要約のChainをToolsで指定する例\n",
    "from langchain.chains import LLMChain\n",
    "from langchain.prompts import PromptTemplate\n",
    "from langchain.tools import Tool\n",
    "from langchain_openai import ChatOpenAI\n",
    "\n",
    "# プロンプト\n",
    "template = \"\"\"\n",
    "以下の文章の結論だけ一言に要約してください。\n",
    "\n",
    "{input}\n",
    "\"\"\"\n",
    "summarize_prompt = PromptTemplate(\n",
    "    input_variables=['input'],\n",
    "    template=template,\n",
    ")\n",
    "\n",
    "# LLM\n",
    "chat = ChatOpenAI(\n",
    "    model_name='gpt-3.5-turbo',\n",
    "    temperature=0,\n",
    ")\n",
    "\n",
    "# Chain\n",
    "summerize_chain = LLMChain(\n",
    "    prompt=summarize_prompt,\n",
    "    llm=chat,\n",
    ")\n",
    "\n",
    "# ツール定義\n",
    "summary_tool = Tool.from_function(\n",
    "    func=summerize_chain.run,\n",
    "    name='Summarizer',\n",
    "    description='Text summarizer'\n",
    ")\n",
    "\n",
    "# リストにまとめてagentに渡せるようにする\n",
    "tools = [\n",
    "    summary_tool,\n",
    "]"
   ]
  },
  {
   "cell_type": "markdown",
   "id": "8b2128e0-7803-452f-8f4f-9261dabc85db",
   "metadata": {},
   "source": [
    "## Toolkits\n",
    "- 同時に使うツールを一つにまとめたもの\n",
    "- 以下、一例\n",
    "| Toolkits                      | 含まれるツール                                     |\n",
    "| ----------------------------- | -------------------------------------------------- |\n",
    "| AzureCognitiveServicesToolkit | Azure Cognitive ServiceのAPIのいくつかの機能       |\n",
    "| GmailToolkit                  | Gmailでのメール検索や送信                          |\n",
    "| JiraToolkit                   | Jiraでの課題の検索や作成                           |\n",
    "| O365Toolkit                   | Office 365のカレンダーの検索やメールの送信         |\n",
    "| OpenAPIToolkit                | OpenAPI仕様(Swagger)に従った各種API操作            |\n",
    "| SQLDatabaseToolkit            | DBのスキーマの取得やSQL実行                        |\n",
    "| VectorStoreToolkit            | Vector Storeの単なる検索やソース(情報源)付きの検索 |\n",
    "| ZapierToolkit                 | ZapierのNatural Language Actionsの各種アクション   |"
   ]
  },
  {
   "cell_type": "markdown",
   "id": "e6499002-fee8-4931-b16b-2832c9892d83",
   "metadata": {},
   "source": [
    "## Function callingを使うOpenAI Functions Agent\n",
    "- ReAct等でAgentsを安定的に動かすのは簡単ではない\n",
    "    - zero-shot-react-dexcription　では、、、\n",
    "        - フォーマットに従った回答が得られずエラー、、、など\n",
    "- Function callingを使ったAgentを使用すると動作が安定しやすい\n",
    "    - LLMがFunction callingに対応している必要はある"
   ]
  },
  {
   "cell_type": "code",
   "execution_count": 14,
   "id": "08161ce3-076b-4d93-aa10-5c32347caa83",
   "metadata": {},
   "outputs": [
    {
     "name": "stderr",
     "output_type": "stream",
     "text": [
      "/usr/local/lib/python3.12/site-packages/langchain_community/tools/shell/tool.py:32: UserWarning: The shell tool has no safeguards by default. Use at your own risk.\n",
      "  warnings.warn(\n"
     ]
    },
    {
     "name": "stdout",
     "output_type": "stream",
     "text": [
      "Executing command:\n",
      " ['ls sample_data']\n",
      "`sample_data`ディレクトリには以下のファイルがあります:\n",
      "- fuga.txt\n",
      "- hoge.txt\n",
      "- ほげほげ.txt\n"
     ]
    }
   ],
   "source": [
    "from langchain.agents import AgentType, initialize_agent, load_tools\n",
    "from langchain_openai import ChatOpenAI\n",
    "\n",
    "# LLM\n",
    "chat = ChatOpenAI(\n",
    "    model_name='gpt-3.5-turbo',\n",
    "    temperature=0,\n",
    ")\n",
    "\n",
    "# ツール指定\n",
    "tools = load_tools(['terminal'])\n",
    "\n",
    "# Agent生成\n",
    "agent_chain = initialize_agent(\n",
    "    tools=tools,\n",
    "    llm=chat,\n",
    "    agent=AgentType.OPENAI_FUNCTIONS  # ★ポイント: 内部的にOpen AI APIのfunction calling機能を使ってLLMとやり取りしていると思われる\n",
    ")\n",
    "\n",
    "# 実行\n",
    "result = agent_chain.run('sample_dataディレクトリにあるファイル一覧を教えて')\n",
    "print(result)"
   ]
  },
  {
   "cell_type": "markdown",
   "id": "0ffaa443-6f77-4409-8a49-ee30acb7659b",
   "metadata": {},
   "source": [
    "## Open AI Multi Function Agent\n",
    "- 一度に複数のツールを使う\n",
    "- LLMからの返答時に下記のような複数ツールの実行希望が返る\n",
    "    - Web検索関数: 東京の天気\n",
    "    - Web検索関数: 大阪の天気\n",
    "- 受け取った側も並列してツールの実行が可能\n",
    "- その結果\n",
    "    - LLMとのやり取りの回数が減る\n",
    "    - ツール実行が効率化される\n",
    "    - 処理速度向上！"
   ]
  },
  {
   "cell_type": "code",
   "execution_count": 6,
   "id": "247ce03e-df9b-4eb5-bf40-06ca347072fe",
   "metadata": {},
   "outputs": [
    {
     "name": "stdout",
     "output_type": "stream",
     "text": [
      "Requirement already satisfied: duckduckgo-search in /usr/local/lib/python3.12/site-packages (5.0)\n",
      "Requirement already satisfied: click>=8.1.7 in /usr/local/lib/python3.12/site-packages (from duckduckgo-search) (8.1.7)\n",
      "Requirement already satisfied: curl-cffi>=0.6.2 in /usr/local/lib/python3.12/site-packages (from duckduckgo-search) (0.6.2)\n",
      "Requirement already satisfied: lxml>=5.1.0 in /usr/local/lib/python3.12/site-packages (from duckduckgo-search) (5.1.0)\n",
      "Requirement already satisfied: cffi>=1.12.0 in /usr/local/lib/python3.12/site-packages (from curl-cffi>=0.6.2->duckduckgo-search) (1.16.0)\n",
      "Requirement already satisfied: certifi in /usr/local/lib/python3.12/site-packages (from curl-cffi>=0.6.2->duckduckgo-search) (2024.2.2)\n",
      "Requirement already satisfied: pycparser in /usr/local/lib/python3.12/site-packages (from cffi>=1.12.0->curl-cffi>=0.6.2->duckduckgo-search) (2.21)\n",
      "\u001b[33mWARNING: Running pip as the 'root' user can result in broken permissions and conflicting behaviour with the system package manager. It is recommended to use a virtual environment instead: https://pip.pypa.io/warnings/venv\u001b[0m\u001b[33m\n",
      "\u001b[0m"
     ]
    }
   ],
   "source": [
    "# 登録無しで使える検索ツールを例に使う\n",
    "!pip install duckduckgo-search"
   ]
  },
  {
   "cell_type": "code",
   "execution_count": 5,
   "id": "67c19857-14df-4421-98d5-51763a20e81e",
   "metadata": {},
   "outputs": [
    {
     "name": "stdout",
     "output_type": "stream",
     "text": [
      "東京の天気情報は、今日は雨が降り、気温が低くなるようです。寒さ対策をしてお出かけすると良いでしょう。\n",
      "\n",
      "大阪の天気情報では、今日は小雨や曇りが続き、明日は晴れがちで気温は9度前後になるようです。お出かけの際は天気に注意してください。\n"
     ]
    }
   ],
   "source": [
    "from langchain.agents import AgentType, initialize_agent, load_tools\n",
    "from langchain_openai import ChatOpenAI\n",
    "\n",
    "# LLM\n",
    "chat = ChatOpenAI(\n",
    "    model_name='gpt-3.5-turbo',\n",
    "    temperature=0,\n",
    ")\n",
    "\n",
    "# ツール指定\n",
    "tools = load_tools([\n",
    "    'ddg-search',\n",
    "])\n",
    "\n",
    "# Agent生成\n",
    "agent_chain = initialize_agent(\n",
    "    tools=tools, \n",
    "    llm=chat, \n",
    "    agent=AgentType.OPENAI_MULTI_FUNCTIONS,  # ★ポイント\n",
    ")\n",
    "\n",
    "# 実行\n",
    "result = agent_chain.run('東京と大阪の天気を教えて')\n",
    "print(result)"
   ]
  },
  {
   "cell_type": "markdown",
   "id": "54da259d-6994-40e8-badf-60155240766b",
   "metadata": {},
   "source": [
    "## まとめ\n",
    "- Agentを使うとLLMにどのツールを使うか選択させながら動作させられる\n",
    "    - Chainsでは固定された処理だけだった\n",
    "- 柔軟な応答や処理が求められる場合の選択肢となりそう"
   ]
  },
  {
   "cell_type": "code",
   "execution_count": null,
   "id": "63a7147f-f0ee-4c71-a52b-5ef61fd21023",
   "metadata": {},
   "outputs": [],
   "source": []
  }
 ],
 "metadata": {
  "kernelspec": {
   "display_name": "Python 3 (ipykernel)",
   "language": "python",
   "name": "python3"
  },
  "language_info": {
   "codemirror_mode": {
    "name": "ipython",
    "version": 3
   },
   "file_extension": ".py",
   "mimetype": "text/x-python",
   "name": "python",
   "nbconvert_exporter": "python",
   "pygments_lexer": "ipython3",
   "version": "3.12.1"
  }
 },
 "nbformat": 4,
 "nbformat_minor": 5
}
