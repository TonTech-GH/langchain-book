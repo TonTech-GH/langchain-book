{
 "cells": [
  {
   "cell_type": "markdown",
   "id": "03f49618-fe8d-4b4d-b825-fb3b1b692e25",
   "metadata": {},
   "source": [
    "# Prompts\n",
    "- 入力プロンプトをいい感じに扱える"
   ]
  },
  {
   "cell_type": "markdown",
   "id": "707b5cbc-c436-4044-b09b-3b103a843a54",
   "metadata": {},
   "source": [
    "## PromptTemplate\n",
    "- プロンプトをテンプレート化できる"
   ]
  },
  {
   "cell_type": "code",
   "execution_count": 1,
   "id": "b9e9cd39-59fd-41f0-8919-0ba025432a06",
   "metadata": {},
   "outputs": [
    {
     "name": "stdout",
     "output_type": "stream",
     "text": [
      "\n",
      "以下の料理のレシピを教えてください。\n",
      "できるだけ簡単に作れるレシピでお願いします。\n",
      "また出力はマークダウン形式でお願いします。\n",
      "\n",
      "料理名: カレー\n",
      "\n"
     ]
    }
   ],
   "source": [
    "from langchain.prompts import PromptTemplate\n",
    "\n",
    "template = \"\"\"\n",
    "以下の料理のレシピを教えてください。\n",
    "できるだけ簡単に作れるレシピでお願いします。\n",
    "また出力はマークダウン形式でお願いします。\n",
    "\n",
    "料理名: {dish}\n",
    "\"\"\"\n",
    "\n",
    "prompt = PromptTemplate(\n",
    "    input_variables=['dish'],\n",
    "    template=template,\n",
    ")\n",
    "\n",
    "result = prompt.format(dish='カレー')\n",
    "print(result)"
   ]
  },
  {
   "cell_type": "code",
   "execution_count": 2,
   "id": "0094f221-6a8c-4fc7-88da-354c899ab3e0",
   "metadata": {},
   "outputs": [
    {
     "name": "stdout",
     "output_type": "stream",
     "text": [
      "\n",
      "以下の料理のレシピを教えてください。\n",
      "できるだけ簡単に作れるレシピでお願いします。\n",
      "また出力はマークダウン形式でお願いします。\n",
      "\n",
      "料理名: カレー\n",
      "\n"
     ]
    }
   ],
   "source": [
    "# 文字列型でも同じことができるので、この使い方だと旨味は無さそう\n",
    "result = template.format(dish='カレー')\n",
    "print(result)"
   ]
  },
  {
   "cell_type": "markdown",
   "id": "4ae0696d-54cc-43f4-addf-c45063dda7b1",
   "metadata": {},
   "source": [
    "## ChatPromptTemplate\n",
    "- Chat Completions API形式（チャット形式）に対応させたもの\n",
    "- システム(System)、ユーザー(Human)、アシスタント(AI) それぞれをテンプレート化してまとめて扱える"
   ]
  },
  {
   "cell_type": "code",
   "execution_count": 15,
   "id": "710b294e-cb66-4f41-8dbf-a899d079e867",
   "metadata": {},
   "outputs": [
    {
     "data": {
      "text/plain": [
       "[SystemMessage(content='あなたはイギリス料理のプロフェッショナルです。'),\n",
       " HumanMessage(content='以下の料理のレシピを教えてください\\n\\n料理名: 肉じゃが')]"
      ]
     },
     "execution_count": 15,
     "metadata": {},
     "output_type": "execute_result"
    }
   ],
   "source": [
    "from langchain.prompts import (\n",
    "    ChatPromptTemplate,\n",
    "    SystemMessagePromptTemplate,  # システム\n",
    "    HumanMessagePromptTemplate,  # ユーザー\n",
    ")\n",
    "\n",
    "chat_prompt = ChatPromptTemplate.from_messages([\n",
    "    SystemMessagePromptTemplate.from_template('あなたは{country}料理のプロフェッショナルです。'),\n",
    "    HumanMessagePromptTemplate.from_template('以下の料理のレシピを教えてください\\n\\n料理名: {dish}')\n",
    "])\n",
    "\n",
    "messages = chat_prompt.format_prompt(country='イギリス', dish='肉じゃが').to_messages()\n",
    "messages"
   ]
  },
  {
   "cell_type": "code",
   "execution_count": 18,
   "id": "821835ed-b5c5-4c9a-b7f6-ff7fe3667a42",
   "metadata": {},
   "outputs": [
    {
     "data": {
      "text/plain": [
       "[SystemMessage(content='あなたはイギリス料理のプロフェッショナルです。'),\n",
       " HumanMessage(content='ユーザーに料理名を質問し、その料理のレシピを教えてください。'),\n",
       " AIMessage(content='レシピを知りたい料理名を教えてください'),\n",
       " HumanMessage(content='イギリス風肉じゃが')]"
      ]
     },
     "execution_count": 18,
     "metadata": {},
     "output_type": "execute_result"
    }
   ],
   "source": [
    "# アシスタント（AI）も追加した版\n",
    "from langchain.prompts import (\n",
    "    ChatPromptTemplate,\n",
    "    SystemMessagePromptTemplate,  # システム\n",
    "    HumanMessagePromptTemplate,  # ユーザー\n",
    "    AIMessagePromptTemplate,  # アシスタント\n",
    ")\n",
    "\n",
    "chat_prompt = ChatPromptTemplate.from_messages([\n",
    "    SystemMessagePromptTemplate.from_template('あなたは{country}料理のプロフェッショナルです。'),\n",
    "    HumanMessagePromptTemplate.from_template('ユーザーに料理名を質問し、その料理のレシピを教えてください。'),\n",
    "    AIMessagePromptTemplate.from_template('レシピを知りたい料理名を教えてください'),\n",
    "    HumanMessagePromptTemplate.from_template('{country}風{dish}'),\n",
    "])\n",
    "\n",
    "messages = chat_prompt.format_prompt(country='イギリス', dish='肉じゃが').to_messages()\n",
    "messages"
   ]
  },
  {
   "cell_type": "code",
   "execution_count": 19,
   "id": "5dbc5d7e-c657-4194-ba18-9ec3edd188ed",
   "metadata": {},
   "outputs": [
    {
     "name": "stdout",
     "output_type": "stream",
     "text": [
      "イギリス風肉じゃがのレシピをお伝えしますね。\n",
      "\n",
      "【材料】\n",
      "- 牛肉（シチュー用）：500g\n",
      "- じゃがいも：4個（約600g）\n",
      "- 玉ねぎ：1個\n",
      "- 人参：1本\n",
      "- セロリ：1本\n",
      "- トマト缶：1缶（400g）\n",
      "- ビーフブイヨン：500ml\n",
      "- 小麦粉：大さじ2\n",
      "- オリーブオイル：大さじ2\n",
      "- 塩、こしょう：適量\n",
      "\n",
      "【作り方】\n",
      "1. 牛肉を食べやすい大きさに切り、塩とこしょうで下味をつける。\n",
      "2. じゃがいも、玉ねぎ、人参、セロリをそれぞれ食べやすい大きさに切る。\n",
      "3. 大きめの鍋にオリーブオイルを熱し、牛肉を焼き色がつくまで炒める。\n",
      "4. 牛肉に小麦粉をまぶし、さらに炒める。\n",
      "5. 野菜を加えて炒め、トマト缶とビーフブイヨンを加える。\n",
      "6. 沸騰したら火を弱め、蓋をして約1時間半から2時間煮込む。途中、アクを取り除く。\n",
      "7. じゃがいもを加え、さらに30分ほど煮込む。\n",
      "8. 味を調整し、完成です。\n",
      "\n",
      "ぜひお試しください。\n"
     ]
    }
   ],
   "source": [
    "# ChatGPTに投げてみる\n",
    "from langchain_openai.chat_models import ChatOpenAI\n",
    "\n",
    "chat = ChatOpenAI(\n",
    "    model_name='gpt-3.5-turbo',\n",
    "    temperature=0,\n",
    ")\n",
    "\n",
    "result = chat(messages)\n",
    "print(result.content)"
   ]
  },
  {
   "cell_type": "markdown",
   "id": "5e553e07-0e03-480c-8631-229f6861ebe5",
   "metadata": {},
   "source": [
    "## Example selectors\n",
    "- Few-shotプロんプティングで使用する例（質問＆回答例）を選択する機能\n",
    "- 動的に例を選択し埋め込める\n",
    "- 固定の例を埋め込む場合は使わなくていい\n",
    "- 詳細は割愛"
   ]
  },
  {
   "cell_type": "code",
   "execution_count": null,
   "id": "ba6e54ec-d6f5-4e29-9f24-7fa736aa4f24",
   "metadata": {},
   "outputs": [],
   "source": []
  }
 ],
 "metadata": {
  "kernelspec": {
   "display_name": "Python 3 (ipykernel)",
   "language": "python",
   "name": "python3"
  },
  "language_info": {
   "codemirror_mode": {
    "name": "ipython",
    "version": 3
   },
   "file_extension": ".py",
   "mimetype": "text/x-python",
   "name": "python",
   "nbconvert_exporter": "python",
   "pygments_lexer": "ipython3",
   "version": "3.12.1"
  }
 },
 "nbformat": 4,
 "nbformat_minor": 5
}
