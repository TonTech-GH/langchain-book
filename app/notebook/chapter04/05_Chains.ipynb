{
 "cells": [
  {
   "cell_type": "markdown",
   "id": "ba5da3e1-95a6-425d-ab19-7a89514cfc60",
   "metadata": {},
   "source": [
    "# Chains\n",
    "- 処理を連鎖的に繋げる"
   ]
  },
  {
   "cell_type": "markdown",
   "id": "1c1fea84-d183-476c-a3e4-7ad102bf7bc8",
   "metadata": {},
   "source": [
    "## LLMChain\n",
    "- 以下をつなぐ\n",
    "    1. Prompt Template\n",
    "    2. Language Model\n",
    "    3. Output Parser"
   ]
  },
  {
   "cell_type": "code",
   "execution_count": 1,
   "id": "966409e3-c7cc-4a4a-abfb-06d4060dc7da",
   "metadata": {},
   "outputs": [
    {
     "name": "stderr",
     "output_type": "stream",
     "text": [
      "/usr/local/lib/python3.12/site-packages/langchain_core/_api/deprecation.py:117: LangChainDeprecationWarning: The function `run` was deprecated in LangChain 0.1.0 and will be removed in 0.2.0. Use invoke instead.\n",
      "  warn_deprecated(\n"
     ]
    },
    {
     "name": "stdout",
     "output_type": "stream",
     "text": [
      "<class '__main__.Recipe'>\n",
      "ingredients=['玉ねぎ', '人参', 'じゃがいも', '牛肉', 'カレールー', '水', '油'] steps=['1. 材料を準備する。', '2. 玉ねぎ、人参、じゃがいもを切る。', '3. 牛肉を炒める。', '4. 野菜を加えて炒める。', '5. 水を加えて煮込む。', '6. カレールーを溶かして加える。', '7. 煮込んで完成。']\n"
     ]
    }
   ],
   "source": [
    "from langchain import LLMChain\n",
    "from langchain_openai import ChatOpenAI\n",
    "from langchain.output_parsers import PydanticOutputParser\n",
    "from langchain.prompts import PromptTemplate\n",
    "from pydantic.v1 import BaseModel, Field\n",
    "\n",
    "class Recipe(BaseModel):\n",
    "    ingredients: list[str] = Field(description='材料')\n",
    "    steps: list[str] = Field(description='手順')\n",
    "\n",
    "# ★ 3.Output Parser\n",
    "output_parser = PydanticOutputParser(pydantic_object=Recipe)\n",
    "\n",
    "template = \"\"\"\n",
    "料理のレシピを教えてください。\n",
    "\n",
    "{format_instruction}\n",
    "\n",
    "料理名: {dish}\n",
    "\"\"\"\n",
    "\n",
    "# ★ 1.Prompt Template\n",
    "prompt = PromptTemplate(\n",
    "    template=template,\n",
    "    input_variables=['dish'],\n",
    "    partial_variables={'format_instruction': output_parser.get_format_instructions()},\n",
    ")\n",
    "\n",
    "# ★ 2.Language Model\n",
    "chat = ChatOpenAI(\n",
    "    model_name='gpt-3.5-turbo',\n",
    "    temperature=0,\n",
    ")\n",
    "\n",
    "# ★　1~3をつなぐ\n",
    "chain = LLMChain(\n",
    "    prompt=prompt,\n",
    "    llm=chat,\n",
    "    output_parser=output_parser,\n",
    ")\n",
    "\n",
    "# 実行\n",
    "recipe = chain.run(dish='カレー')\n",
    "print(type(recipe))\n",
    "print(recipe)"
   ]
  },
  {
   "cell_type": "markdown",
   "id": "8633332e-456e-4861-b545-cce347acaa5b",
   "metadata": {},
   "source": [
    "## Simple Sequential Chain\n",
    "- ChainとChainを直列につなぐ"
   ]
  },
  {
   "cell_type": "code",
   "execution_count": 2,
   "id": "36c047b5-bee8-4edc-8faa-44f1ff896f3f",
   "metadata": {},
   "outputs": [
    {
     "name": "stderr",
     "output_type": "stream",
     "text": [
      "/usr/local/lib/python3.12/site-packages/langchain_core/_api/deprecation.py:117: LangChainDeprecationWarning: The function `__call__` was deprecated in LangChain 0.1.0 and will be removed in 0.2.0. Use invoke instead.\n",
      "  warn_deprecated(\n"
     ]
    },
    {
     "name": "stdout",
     "output_type": "stream",
     "text": [
      "残りのリンゴは10個。\n"
     ]
    }
   ],
   "source": [
    "from langchain import LLMChain\n",
    "from langchain.chains import SimpleSequentialChain\n",
    "from langchain_openai import ChatOpenAI\n",
    "from langchain.prompts import PromptTemplate\n",
    "\n",
    "# LLM Modelは共通\n",
    "chat = ChatOpenAI(\n",
    "    model_name='gpt-3.5-turbo',\n",
    "    temperature=0,\n",
    ")\n",
    "\n",
    "# -------------------------------------------------------------------\n",
    "# Chain 1: Zero-shot CoT　でステップバイステップで考えさせる\n",
    "# -------------------------------------------------------------------\n",
    "cot_template = \"\"\"\n",
    "以下の質問に回答してください。\n",
    "\n",
    "質問: {question}\n",
    "\n",
    "ステップバイステップで考えましょう。\n",
    "\"\"\"\n",
    "\n",
    "cot_prompt = PromptTemplate(\n",
    "    input_variables=['question'],\n",
    "    template=cot_template,\n",
    ")\n",
    "\n",
    "cot_chain = LLMChain(prompt=cot_prompt, llm=chat)\n",
    "\n",
    "# -------------------------------------------------------------------\n",
    "# Chain 2: 要約させる\n",
    "# -------------------------------------------------------------------\n",
    "summarize_template = \"\"\"\n",
    "以下の文章を結論だけ一言で要約してください。\n",
    "\n",
    "{input}\n",
    "\"\"\"\n",
    "\n",
    "summarize_prompt = PromptTemplate(\n",
    "    input_variables=['input'],\n",
    "    template=summarize_template,\n",
    ")\n",
    "\n",
    "summarize_chain = LLMChain(prompt=summarize_prompt, llm=chat)\n",
    "\n",
    "# -------------------------------------------------------------------\n",
    "# Chainを直列連結\n",
    "# -------------------------------------------------------------------\n",
    "chain = SimpleSequentialChain(\n",
    "    chains=[cot_chain, summarize_chain]\n",
    ")\n",
    "\n",
    "# 質問文章\n",
    "question = \"私は市場に行って10個のリンゴを買いました。隣人に2つ、修理工に2つ渡しました。それから5つのリンゴを買って1つ食べました。残りは何個ですか？\"\n",
    "\n",
    "# 実行\n",
    "result = chain(question)\n",
    "print(result['output'])"
   ]
  },
  {
   "cell_type": "code",
   "execution_count": 3,
   "id": "75fb344c-ccc0-4675-a50c-f912c41c1d53",
   "metadata": {},
   "outputs": [
    {
     "data": {
      "text/plain": [
       "{'input': '私は市場に行って10個のリンゴを買いました。隣人に2つ、修理工に2つ渡しました。それから5つのリンゴを買って1つ食べました。残りは何個ですか？',\n",
       " 'output': '残りのリンゴは10個。'}"
      ]
     },
     "execution_count": 3,
     "metadata": {},
     "output_type": "execute_result"
    }
   ],
   "source": [
    "# 結果は 'input' と　'output' をもつ辞書\n",
    "result"
   ]
  },
  {
   "cell_type": "code",
   "execution_count": 4,
   "id": "10c1e9de-92c7-4d75-8171-2c7e7ed196a8",
   "metadata": {
    "scrolled": true
   },
   "outputs": [
    {
     "name": "stdout",
     "output_type": "stream",
     "text": [
      "\u001b[32;1m\u001b[1;3m[chain/start]\u001b[0m \u001b[1m[1:chain:SimpleSequentialChain] Entering Chain run with input:\n",
      "\u001b[0m{\n",
      "  \"input\": \"私は市場に行って10個のリンゴを買いました。隣人に2つ、修理工に2つ渡しました。それから5つのリンゴを買って1つ食べました。残りは何個ですか？\"\n",
      "}\n",
      "\u001b[32;1m\u001b[1;3m[chain/start]\u001b[0m \u001b[1m[1:chain:SimpleSequentialChain > 2:chain:LLMChain] Entering Chain run with input:\n",
      "\u001b[0m{\n",
      "  \"question\": \"私は市場に行って10個のリンゴを買いました。隣人に2つ、修理工に2つ渡しました。それから5つのリンゴを買って1つ食べました。残りは何個ですか？\"\n",
      "}\n",
      "\u001b[32;1m\u001b[1;3m[llm/start]\u001b[0m \u001b[1m[1:chain:SimpleSequentialChain > 2:chain:LLMChain > 3:llm:ChatOpenAI] Entering LLM run with input:\n",
      "\u001b[0m{\n",
      "  \"prompts\": [\n",
      "    \"Human: \\n以下の質問に回答してください。\\n\\n質問: 私は市場に行って10個のリンゴを買いました。隣人に2つ、修理工に2つ渡しました。それから5つのリンゴを買って1つ食べました。残りは何個ですか？\\n\\nステップバイステップで考えましょう。\"\n",
      "  ]\n",
      "}\n",
      "\u001b[36;1m\u001b[1;3m[llm/end]\u001b[0m \u001b[1m[1:chain:SimpleSequentialChain > 2:chain:LLMChain > 3:llm:ChatOpenAI] [3.31s] Exiting LLM run with output:\n",
      "\u001b[0m{\n",
      "  \"generations\": [\n",
      "    [\n",
      "      {\n",
      "        \"text\": \"1. 最初に市場で10個のリンゴを買いました。\\n2. 隣人に2つ、修理工に2つ渡しました。残りは10 - 2 - 2 = 6個です。\\n3. その後、5つのリンゴを追加で購入しました。残りは6 + 5 = 11個です。\\n4. 1つのリンゴを食べたので、残りは11 - 1 = 10個です。\\n\\nしたがって、残りのリンゴは10個です。\",\n",
      "        \"generation_info\": {\n",
      "          \"finish_reason\": \"stop\",\n",
      "          \"logprobs\": null\n",
      "        },\n",
      "        \"type\": \"ChatGeneration\",\n",
      "        \"message\": {\n",
      "          \"lc\": 1,\n",
      "          \"type\": \"constructor\",\n",
      "          \"id\": [\n",
      "            \"langchain\",\n",
      "            \"schema\",\n",
      "            \"messages\",\n",
      "            \"AIMessage\"\n",
      "          ],\n",
      "          \"kwargs\": {\n",
      "            \"content\": \"1. 最初に市場で10個のリンゴを買いました。\\n2. 隣人に2つ、修理工に2つ渡しました。残りは10 - 2 - 2 = 6個です。\\n3. その後、5つのリンゴを追加で購入しました。残りは6 + 5 = 11個です。\\n4. 1つのリンゴを食べたので、残りは11 - 1 = 10個です。\\n\\nしたがって、残りのリンゴは10個です。\",\n",
      "            \"additional_kwargs\": {}\n",
      "          }\n",
      "        }\n",
      "      }\n",
      "    ]\n",
      "  ],\n",
      "  \"llm_output\": {\n",
      "    \"token_usage\": {\n",
      "      \"completion_tokens\": 152,\n",
      "      \"prompt_tokens\": 114,\n",
      "      \"total_tokens\": 266\n",
      "    },\n",
      "    \"model_name\": \"gpt-3.5-turbo\",\n",
      "    \"system_fingerprint\": \"fp_86156a94a0\"\n",
      "  },\n",
      "  \"run\": null\n",
      "}\n",
      "\u001b[36;1m\u001b[1;3m[chain/end]\u001b[0m \u001b[1m[1:chain:SimpleSequentialChain > 2:chain:LLMChain] [3.32s] Exiting Chain run with output:\n",
      "\u001b[0m{\n",
      "  \"text\": \"1. 最初に市場で10個のリンゴを買いました。\\n2. 隣人に2つ、修理工に2つ渡しました。残りは10 - 2 - 2 = 6個です。\\n3. その後、5つのリンゴを追加で購入しました。残りは6 + 5 = 11個です。\\n4. 1つのリンゴを食べたので、残りは11 - 1 = 10個です。\\n\\nしたがって、残りのリンゴは10個です。\"\n",
      "}\n",
      "\u001b[32;1m\u001b[1;3m[chain/start]\u001b[0m \u001b[1m[1:chain:SimpleSequentialChain > 4:chain:LLMChain] Entering Chain run with input:\n",
      "\u001b[0m{\n",
      "  \"input\": \"1. 最初に市場で10個のリンゴを買いました。\\n2. 隣人に2つ、修理工に2つ渡しました。残りは10 - 2 - 2 = 6個です。\\n3. その後、5つのリンゴを追加で購入しました。残りは6 + 5 = 11個です。\\n4. 1つのリンゴを食べたので、残りは11 - 1 = 10個です。\\n\\nしたがって、残りのリンゴは10個です。\"\n",
      "}\n",
      "\u001b[32;1m\u001b[1;3m[llm/start]\u001b[0m \u001b[1m[1:chain:SimpleSequentialChain > 4:chain:LLMChain > 5:llm:ChatOpenAI] Entering LLM run with input:\n",
      "\u001b[0m{\n",
      "  \"prompts\": [\n",
      "    \"Human: \\n以下の文章を結論だけ一言で要約してください。\\n\\n1. 最初に市場で10個のリンゴを買いました。\\n2. 隣人に2つ、修理工に2つ渡しました。残りは10 - 2 - 2 = 6個です。\\n3. その後、5つのリンゴを追加で購入しました。残りは6 + 5 = 11個です。\\n4. 1つのリンゴを食べたので、残りは11 - 1 = 10個です。\\n\\nしたがって、残りのリンゴは10個です。\"\n",
      "  ]\n",
      "}\n",
      "\u001b[36;1m\u001b[1;3m[llm/end]\u001b[0m \u001b[1m[1:chain:SimpleSequentialChain > 4:chain:LLMChain > 5:llm:ChatOpenAI] [916ms] Exiting LLM run with output:\n",
      "\u001b[0m{\n",
      "  \"generations\": [\n",
      "    [\n",
      "      {\n",
      "        \"text\": \"残りのリンゴは10個。\",\n",
      "        \"generation_info\": {\n",
      "          \"finish_reason\": \"stop\",\n",
      "          \"logprobs\": null\n",
      "        },\n",
      "        \"type\": \"ChatGeneration\",\n",
      "        \"message\": {\n",
      "          \"lc\": 1,\n",
      "          \"type\": \"constructor\",\n",
      "          \"id\": [\n",
      "            \"langchain\",\n",
      "            \"schema\",\n",
      "            \"messages\",\n",
      "            \"AIMessage\"\n",
      "          ],\n",
      "          \"kwargs\": {\n",
      "            \"content\": \"残りのリンゴは10個。\",\n",
      "            \"additional_kwargs\": {}\n",
      "          }\n",
      "        }\n",
      "      }\n",
      "    ]\n",
      "  ],\n",
      "  \"llm_output\": {\n",
      "    \"token_usage\": {\n",
      "      \"completion_tokens\": 13,\n",
      "      \"prompt_tokens\": 180,\n",
      "      \"total_tokens\": 193\n",
      "    },\n",
      "    \"model_name\": \"gpt-3.5-turbo\",\n",
      "    \"system_fingerprint\": \"fp_86156a94a0\"\n",
      "  },\n",
      "  \"run\": null\n",
      "}\n",
      "\u001b[36;1m\u001b[1;3m[chain/end]\u001b[0m \u001b[1m[1:chain:SimpleSequentialChain > 4:chain:LLMChain] [919ms] Exiting Chain run with output:\n",
      "\u001b[0m{\n",
      "  \"text\": \"残りのリンゴは10個。\"\n",
      "}\n",
      "\u001b[36;1m\u001b[1;3m[chain/end]\u001b[0m \u001b[1m[1:chain:SimpleSequentialChain] [4.24s] Exiting Chain run with output:\n",
      "\u001b[0m{\n",
      "  \"output\": \"残りのリンゴは10個。\"\n",
      "}\n",
      "残りのリンゴは10個。\n"
     ]
    }
   ],
   "source": [
    "# 詳細出力\n",
    "import langchain\n",
    "langchain.verbose = True  # フォーマットされたプロンプトなどが表示される\n",
    "langchain.debug = True  # LangChainの挙動が最も詳細に出力される\n",
    "\n",
    "result = chain(question)\n",
    "print(result['output'])"
   ]
  },
  {
   "cell_type": "markdown",
   "id": "1df7e9cd-235b-4571-b36d-509f0fdaa921",
   "metadata": {},
   "source": [
    "## Chain同士を接続するChain\n",
    "| Chain                 | 概要                  |\n",
    "| --------------------- | --------------------- |\n",
    "| SimpleSequentialChain | 直列に接続            |\n",
    "| SequentialChain       | 複数の入出力に対応    |\n",
    "| LLMRouterChain        | LLMの判断で分岐を実現 |"
   ]
  },
  {
   "cell_type": "markdown",
   "id": "7050e294-3bb9-4139-bf13-a71e532e9cce",
   "metadata": {},
   "source": [
    "## 特定のユースケースに特化したChain\n",
    "| Chain                          | 概要                                                                |\n",
    "| ------------------------------ | ------------------------------------------------------------------- |\n",
    "| OpenAIModerationChain          | テキストがOpenAIの利用ポリシーに違反しないかチェック(OpenAIのModeration API利用)                                                                                                      |\n",
    "| LLMRequestsChain               | 指定したURLにHTTPリクエストを送信し、レスポンスの内容を踏まえてLLMに質問回答させる                                                                                                    |\n",
    "| OpenAPIEndpointChain           | 自然言語で入力を与えると、OpenAPI仕様(Swagger)をもとにLLMがAPIへのリクエストを生成し、その内容でAPIを呼び出す。さらに、APIからのレスポンスを踏まえてLLMに質問回答させることもできる。 |\n",
    "| PAL Chain(Experimental)        | 自然言語の入力をもとにLLMがプログラムを生成し、プログラムを実行した結果を返す。「PAL: Program-aided Language Models」という論文に基づく実装                                           |\n",
    "| SQLDatabaseChain(Experimental) | 自然言語の入力をもとにLLMがSQLを生成し、DBに対して実行した上で最終的な回答を出力させる |\n",
    "\n",
    "\n",
    "※Experimental: 実験的な実装。langchain_experimental パッケージに入っている。"
   ]
  },
  {
   "cell_type": "markdown",
   "id": "8dc4c869-db16-483b-84fa-45a6bd91f4e4",
   "metadata": {},
   "source": [
    "## 【オプション】LLMRequestsChainを試してみる\n",
    "- 指定したURLにHTTPリクエストを送信し、レスポンスの内容を踏まえてLLMに質問回答させる\n",
    "- 知識生成プロンプティングの一種？？"
   ]
  },
  {
   "cell_type": "code",
   "execution_count": 5,
   "id": "d2b8eb61-3d20-4806-9596-e39eaaa5d97c",
   "metadata": {
    "scrolled": true
   },
   "outputs": [
    {
     "name": "stdout",
     "output_type": "stream",
     "text": [
      "\u001b[32;1m\u001b[1;3m[chain/start]\u001b[0m \u001b[1m[1:chain:LLMRequestsChain] Entering Chain run with input:\n",
      "\u001b[0m{\n",
      "  \"question\": \"ゲーム「パルワールド」の概要を教えて\",\n",
      "  \"url\": \"https://www.pocketpair.jp/palworld?lang=ja\"\n",
      "}\n",
      "\u001b[32;1m\u001b[1;3m[chain/start]\u001b[0m \u001b[1m[1:chain:LLMRequestsChain > 2:chain:LLMChain] Entering Chain run with input:\n",
      "\u001b[0m{\n",
      "  \"question\": \"ゲーム「パルワールド」の概要を教えて\",\n",
      "  \"requests_result\": \"\\n\\n\\n\\n\\n\\n\\n\\n\\n\\n\\n\\n\\n\\n\\n\\n\\n\\n\\n\\n\\n\\n\\n\\n\\n\\n\\n\\n\\n\\n\\n\\n\\n\\n\\n\\n\\n\\n\\n\\n\\n\\n\\n\\n\\n\\n\\n\\n\\n\\n\\n\\n\\n\\n\\n\\n\\n\\n\\n\\n\\n\\n\\n\\n\\nPalworld | Pocketpair,Inc.\\n\\n\\n\\n\\n\\n\\n\\n\\n\\n\\n\\n\\n\\n\\n\\n\\n\\n\\n\\n\\n\\n\\n\\n\\n\\n\\n\\n\\n\\n\\n\\ntop of page採用情報ニュース会社概要パルワールドNever GraveクラフトピアAIアートインポスターオーバーダンジョンMoreUse tab to navigate through the menu items.\\n\\n\\n\\n\\n\\n\\n\\n\\n\\n\\n\\n\\n\\n\\n\\n\\n\\n\\n\\n\\n\\n\\n\\n\\n\\n\\n\\n\\n\\n\\n\\n\\n\\nDiscord\\n\\n\\n\\n\\n\\n\\n\\nYoutube\\n\\n\\n\\n\\n\\nX\\n\\n\\n\\n\\n\\ntiktok\\n\\n\\n\\n\\n\\n大好評発売中!!動画を再生動画を再生03:06Palworld | Early Access Launch Trailer | Pocketpair動画を再生動画を再生02:00Paldeck_SP | No.050 JETRAGON - Palworld | Gameplay | Pocketpair動画を再生動画を再生02:50Palworld｜HOW TO RAISE THE STRONGEST PALS｜ Palnews｜Pocketpair動画を再生動画を再生01:35Palworld｜How to catch Pals | Palnews | Pocketpair動画を再生動画を再生01:22Palworld｜Using Pals Efficiently｜ Palnews｜Pocketpair動画を再生動画を再生01:30Paldeck_SP | No.010 ANUBIS - Palworld | Gameplay | Pocketpair動画を再生動画を再生01:31Paldeck_SP | No.030 MOSSANDA - Palworld | Gameplay | Pocketpair動画を再生動画を再生01:02Palworld | TGS 2023 Trailer | Pocketpair | Multiplayer | Character Customizationトレーラー​100種類以上\\nの個性的なパルパルワールドでは、１００種類以上の個性豊かなパルたちが登場し、プレイヤーを待ち受けています。それぞれのパルは独自の多種多様な特技を持ち合わせており、プレイヤーの冒険を豊かに彩ります。また、その中には、圧倒的な存在感を放つ巨大なボスパルも含まれており、これら全てのパルは捕獲することができます。パルとの\\n戦闘・捕獲パルワールドは、戦闘、捕獲、育成、そして拠点建築という様々な要素が融合しています。プレイヤーは、古典的な弓や槍から、近代的なアサルトライフルやロケットランチャーに至るまで、さまざまな武器を手にすることができます。この世界では、スフィアを投げることでパルを捕獲することが可能です。獲物を弱らせれば捕獲の確率が高まります。そして、捕まえたパルはあなたの強力な戦闘パートナーとなり、共に戦うことができます。それぞれのパルは独自の属性やスキルを持ち、同じ種類であっても異なるステータスを有しているのです。拠点づくり、\\nパルの労働プレイヤーはパルたちと共に拠点づくりを楽しむことができます。作成した拠点では、パルたちを配置し、彼らに様々な労働をさせることが可能です。労働を通じて、アイテムの収集や生産、植物の栽培、さらには発電までを自動化することができます。それぞれのパルは個性に応じた独自の働き方をし、「生き物」としての彼らにはエサや休息が必要です。これらのケアがパルたちのモチベーションに直接影響を与え、拠点運営に重要な役割を果たします。広大なオープンワールドでのマルチプレイプレイヤーは他のプレイヤーと協力し、共に冒険を進めることができます。また、対立する要素もあり、他のプレイヤーを襲ってパルやアイテムを奪い取ることも可能です。プレイヤー同士でパルを交換したり、戦わせたりすることもできます。\\n\\n\\n\\n\\n\\n\\n\\n\\n\\n\\n\\n\\n\\n\\n\\n\\n\\n\\n\\n\\n© Pocketpair, Inc. ​お問い合わせ会社概要プレスキット配信についてのガイドライン二次創作についてのガイドラインbottom of page\\n\\n\\n\\n\\n\\n\\n\\n\\n\\n\\n\\n\\n\\n\\n\\n\\n\\n\\n\\n\\n\\n\\n\\n\\n\\n\\n\\n\\n\\n\\n\\n\\n\\n\\n\\n\\n\\n\\n\\n\\n\\n\\n\\n\\n\\n\\n\\n\\n\\n\"\n",
      "}\n",
      "\u001b[32;1m\u001b[1;3m[llm/start]\u001b[0m \u001b[1m[1:chain:LLMRequestsChain > 2:chain:LLMChain > 3:llm:ChatOpenAI] Entering LLM run with input:\n",
      "\u001b[0m{\n",
      "  \"prompts\": [\n",
      "    \"Human: \\n以下の>>>と<<<の間の文章はWebサイトから取得したデータです。\\n質問\\\"ゲーム「パルワールド」の概要を教えて\\\"に対する回答を抽出してください。もし適切な回答が見つからない場合は「回答が見つかりません。」と出力してください。\\n>>> \\n\\n\\n\\n\\n\\n\\n\\n\\n\\n\\n\\n\\n\\n\\n\\n\\n\\n\\n\\n\\n\\n\\n\\n\\n\\n\\n\\n\\n\\n\\n\\n\\n\\n\\n\\n\\n\\n\\n\\n\\n\\n\\n\\n\\n\\n\\n\\n\\n\\n\\n\\n\\n\\n\\n\\n\\n\\n\\n\\n\\n\\n\\n\\n\\nPalworld | Pocketpair,Inc.\\n\\n\\n\\n\\n\\n\\n\\n\\n\\n\\n\\n\\n\\n\\n\\n\\n\\n\\n\\n\\n\\n\\n\\n\\n\\n\\n\\n\\n\\n\\n\\ntop of page採用情報ニュース会社概要パルワールドNever GraveクラフトピアAIアートインポスターオーバーダンジョンMoreUse tab to navigate through the menu items.\\n\\n\\n\\n\\n\\n\\n\\n\\n\\n\\n\\n\\n\\n\\n\\n\\n\\n\\n\\n\\n\\n\\n\\n\\n\\n\\n\\n\\n\\n\\n\\n\\n\\nDiscord\\n\\n\\n\\n\\n\\n\\n\\nYoutube\\n\\n\\n\\n\\n\\nX\\n\\n\\n\\n\\n\\ntiktok\\n\\n\\n\\n\\n\\n大好評発売中!!動画を再生動画を再生03:06Palworld | Early Access Launch Trailer | Pocketpair動画を再生動画を再生02:00Paldeck_SP | No.050 JETRAGON - Palworld | Gameplay | Pocketpair動画を再生動画を再生02:50Palworld｜HOW TO RAISE THE STRONGEST PALS｜ Palnews｜Pocketpair動画を再生動画を再生01:35Palworld｜How to catch Pals | Palnews | Pocketpair動画を再生動画を再生01:22Palworld｜Using Pals Efficiently｜ Palnews｜Pocketpair動画を再生動画を再生01:30Paldeck_SP | No.010 ANUBIS - Palworld | Gameplay | Pocketpair動画を再生動画を再生01:31Paldeck_SP | No.030 MOSSANDA - Palworld | Gameplay | Pocketpair動画を再生動画を再生01:02Palworld | TGS 2023 Trailer | Pocketpair | Multiplayer | Character Customizationトレーラー​100種類以上\\nの個性的なパルパルワールドでは、１００種類以上の個性豊かなパルたちが登場し、プレイヤーを待ち受けています。それぞれのパルは独自の多種多様な特技を持ち合わせており、プレイヤーの冒険を豊かに彩ります。また、その中には、圧倒的な存在感を放つ巨大なボスパルも含まれており、これら全てのパルは捕獲することができます。パルとの\\n戦闘・捕獲パルワールドは、戦闘、捕獲、育成、そして拠点建築という様々な要素が融合しています。プレイヤーは、古典的な弓や槍から、近代的なアサルトライフルやロケットランチャーに至るまで、さまざまな武器を手にすることができます。この世界では、スフィアを投げることでパルを捕獲することが可能です。獲物を弱らせれば捕獲の確率が高まります。そして、捕まえたパルはあなたの強力な戦闘パートナーとなり、共に戦うことができます。それぞれのパルは独自の属性やスキルを持ち、同じ種類であっても異なるステータスを有しているのです。拠点づくり、\\nパルの労働プレイヤーはパルたちと共に拠点づくりを楽しむことができます。作成した拠点では、パルたちを配置し、彼らに様々な労働をさせることが可能です。労働を通じて、アイテムの収集や生産、植物の栽培、さらには発電までを自動化することができます。それぞれのパルは個性に応じた独自の働き方をし、「生き物」としての彼らにはエサや休息が必要です。これらのケアがパルたちのモチベーションに直接影響を与え、拠点運営に重要な役割を果たします。広大なオープンワールドでのマルチプレイプレイヤーは他のプレイヤーと協力し、共に冒険を進めることができます。また、対立する要素もあり、他のプレイヤーを襲ってパルやアイテムを奪い取ることも可能です。プレイヤー同士でパルを交換したり、戦わせたりすることもできます。\\n\\n\\n\\n\\n\\n\\n\\n\\n\\n\\n\\n\\n\\n\\n\\n\\n\\n\\n\\n\\n© Pocketpair, Inc. ​お問い合わせ会社概要プレスキット配信についてのガイドライン二次創作についてのガイドラインbottom of page\\n\\n\\n\\n\\n\\n\\n\\n\\n\\n\\n\\n\\n\\n\\n\\n\\n\\n\\n\\n\\n\\n\\n\\n\\n\\n\\n\\n\\n\\n\\n\\n\\n\\n\\n\\n\\n\\n\\n\\n\\n\\n\\n\\n\\n\\n\\n\\n\\n\\n <<<\\nAnswer:\"\n",
      "  ]\n",
      "}\n",
      "\u001b[36;1m\u001b[1;3m[llm/end]\u001b[0m \u001b[1m[1:chain:LLMRequestsChain > 2:chain:LLMChain > 3:llm:ChatOpenAI] [3.82s] Exiting LLM run with output:\n",
      "\u001b[0m{\n",
      "  \"generations\": [\n",
      "    [\n",
      "      {\n",
      "        \"text\": \"パルワールドは、100種類以上の個性豊かなパルたちが登場し、プレイヤーを待ち受けています。プレイヤーはパルを捕獲し、育成し、拠点建築を行いながら、他のプレイヤーと協力したり対立したりすることができます。パルたちは独自の特技や属性を持ち、戦闘や労働を通じて活躍します。\",\n",
      "        \"generation_info\": {\n",
      "          \"finish_reason\": \"stop\",\n",
      "          \"logprobs\": null\n",
      "        },\n",
      "        \"type\": \"ChatGeneration\",\n",
      "        \"message\": {\n",
      "          \"lc\": 1,\n",
      "          \"type\": \"constructor\",\n",
      "          \"id\": [\n",
      "            \"langchain\",\n",
      "            \"schema\",\n",
      "            \"messages\",\n",
      "            \"AIMessage\"\n",
      "          ],\n",
      "          \"kwargs\": {\n",
      "            \"content\": \"パルワールドは、100種類以上の個性豊かなパルたちが登場し、プレイヤーを待ち受けています。プレイヤーはパルを捕獲し、育成し、拠点建築を行いながら、他のプレイヤーと協力したり対立したりすることができます。パルたちは独自の特技や属性を持ち、戦闘や労働を通じて活躍します。\",\n",
      "            \"additional_kwargs\": {}\n",
      "          }\n",
      "        }\n",
      "      }\n",
      "    ]\n",
      "  ],\n",
      "  \"llm_output\": {\n",
      "    \"token_usage\": {\n",
      "      \"completion_tokens\": 144,\n",
      "      \"prompt_tokens\": 1351,\n",
      "      \"total_tokens\": 1495\n",
      "    },\n",
      "    \"model_name\": \"gpt-3.5-turbo\",\n",
      "    \"system_fingerprint\": \"fp_86156a94a0\"\n",
      "  },\n",
      "  \"run\": null\n",
      "}\n",
      "\u001b[36;1m\u001b[1;3m[chain/end]\u001b[0m \u001b[1m[1:chain:LLMRequestsChain > 2:chain:LLMChain] [3.82s] Exiting Chain run with output:\n",
      "\u001b[0m{\n",
      "  \"text\": \"パルワールドは、100種類以上の個性豊かなパルたちが登場し、プレイヤーを待ち受けています。プレイヤーはパルを捕獲し、育成し、拠点建築を行いながら、他のプレイヤーと協力したり対立したりすることができます。パルたちは独自の特技や属性を持ち、戦闘や労働を通じて活躍します。\"\n",
      "}\n",
      "\u001b[36;1m\u001b[1;3m[chain/end]\u001b[0m \u001b[1m[1:chain:LLMRequestsChain] [4.01s] Exiting Chain run with output:\n",
      "\u001b[0m{\n",
      "  \"output\": \"パルワールドは、100種類以上の個性豊かなパルたちが登場し、プレイヤーを待ち受けています。プレイヤーはパルを捕獲し、育成し、拠点建築を行いながら、他のプレイヤーと協力したり対立したりすることができます。パルたちは独自の特技や属性を持ち、戦闘や労働を通じて活躍します。\"\n",
      "}\n"
     ]
    },
    {
     "data": {
      "text/plain": [
       "{'question': 'ゲーム「パルワールド」の概要を教えて',\n",
       " 'url': 'https://www.pocketpair.jp/palworld?lang=ja',\n",
       " 'output': 'パルワールドは、100種類以上の個性豊かなパルたちが登場し、プレイヤーを待ち受けています。プレイヤーはパルを捕獲し、育成し、拠点建築を行いながら、他のプレイヤーと協力したり対立したりすることができます。パルたちは独自の特技や属性を持ち、戦闘や労働を通じて活躍します。'}"
      ]
     },
     "execution_count": 5,
     "metadata": {},
     "output_type": "execute_result"
    }
   ],
   "source": [
    "from langchain_openai import ChatOpenAI\n",
    "from langchain.prompts import PromptTemplate\n",
    "from langchain.chains import LLMChain, LLMRequestsChain\n",
    "\n",
    "# プロンプト\n",
    "template = \"\"\"\n",
    "以下の>>>と<<<の間の文章はWebサイトから取得したデータです。\n",
    "質問\"{question}\"に対する回答を抽出してください。もし適切な回答が見つからない場合は「回答が見つかりません。」と出力してください。\n",
    ">>> {requests_result} <<<\n",
    "Answer:\n",
    "\"\"\"\n",
    "\n",
    "prompt = PromptTemplate(\n",
    "    input_variables=['question', 'requests_result'],\n",
    "    template=template,\n",
    ")\n",
    "\n",
    "# モデル\n",
    "chat = ChatOpenAI(\n",
    "    model_name='gpt-3.5-turbo',\n",
    "    temperature=0,\n",
    ")\n",
    "\n",
    "# Chain生成\n",
    "chain = LLMRequestsChain(\n",
    "    llm_chain=LLMChain(prompt=prompt, llm=chat, verbose=False),\n",
    "    verbose=False,\n",
    ")\n",
    "\n",
    "# 実行\n",
    "question = 'ゲーム「パルワールド」の概要を教えて'\n",
    "result = chain(dict(\n",
    "    question=question,\n",
    "    url='https://www.pocketpair.jp/palworld?lang=ja',\n",
    "))\n",
    "\n",
    "result"
   ]
  },
  {
   "cell_type": "code",
   "execution_count": 6,
   "id": "b1165eab-5a5a-49fc-a42d-f60928339434",
   "metadata": {},
   "outputs": [
    {
     "name": "stdout",
     "output_type": "stream",
     "text": [
      "------------------------------question------------------------------\n",
      "ゲーム「パルワールド」の概要を教えて\n",
      "------------------------------url------------------------------\n",
      "https://www.pocketpair.jp/palworld?lang=ja\n",
      "------------------------------output------------------------------\n",
      "パルワールドは、100種類以上の個性豊かなパルたちが登場し、プレイヤーを待ち受けています。プレイヤーはパルを捕獲し、育成し、拠点建築を行いながら、他のプレイヤーと協力したり対立したりすることができます。パルたちは独自の特技や属性を持ち、戦闘や労働を通じて活躍します。\n"
     ]
    }
   ],
   "source": [
    "for k, v in result.items():\n",
    "    sep = '-'*30\n",
    "    print(sep + k + sep)\n",
    "    print(v)"
   ]
  },
  {
   "attachments": {
    "b3188bc9-7405-4b12-9990-c18f3519a5dc.png": {
     "image/png": "[encoded data removed]"
    }
   },
   "cell_type": "markdown",
   "id": "9a2f29f9-580f-4e9a-83bd-cd6794341f1c",
   "metadata": {},
   "source": [
    "---\n",
    "#### ChatGPTに普通に聞いたらこんな回答\n",
    "![image.png](attachment:b3188bc9-7405-4b12-9990-c18f3519a5dc.png)"
   ]
  },
  {
   "cell_type": "code",
   "execution_count": null,
   "id": "8563f376-c12d-4baf-bf3c-b755a7a1dfb5",
   "metadata": {},
   "outputs": [],
   "source": []
  }
 ],
 "metadata": {
  "kernelspec": {
   "display_name": "Python 3 (ipykernel)",
   "language": "python",
   "name": "python3"
  },
  "language_info": {
   "codemirror_mode": {
    "name": "ipython",
    "version": 3
   },
   "file_extension": ".py",
   "mimetype": "text/x-python",
   "name": "python",
   "nbconvert_exporter": "python",
   "pygments_lexer": "ipython3",
   "version": "3.12.1"
  }
 },
 "nbformat": 4,
 "nbformat_minor": 5
}
