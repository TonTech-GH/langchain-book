{
 "cells": [
  {
   "cell_type": "markdown",
   "id": "50491642-4afa-43b8-9994-328d8425c8f1",
   "metadata": {},
   "source": [
    "# Output Parsers\n",
    "- LLMの出力をプログラム的に扱う補助をしてくれる\n",
    "- 出力形式を指定したLLMの応答から該当箇所を抽出してPythonオブジェクトに変換してくれる"
   ]
  },
  {
   "cell_type": "markdown",
   "id": "8060efc5-5b79-453b-a390-23152786abc6",
   "metadata": {},
   "source": [
    "## PydanticOutputParser"
   ]
  },
  {
   "cell_type": "markdown",
   "id": "8dda0a6c-c0c4-4414-93b3-8e61322640e8",
   "metadata": {},
   "source": [
    "---\n",
    "#### pydantic\n",
    "- データクラス(データの入れ物)を定義できるパッケージ\n",
    "- データ定義、バリデーション、シリアライズ・デシリアライズ（JSONとの相互変換等）が簡単にできる"
   ]
  },
  {
   "cell_type": "code",
   "execution_count": 1,
   "id": "5cc67cfc-9ea3-4388-8885-12d957707118",
   "metadata": {},
   "outputs": [],
   "source": [
    "from pydantic import BaseModel, Field\n",
    "\n",
    "# ★BaseModelを継承したクラスを定義\n",
    "class Recipe(BaseModel):\n",
    "    ingredients: list[str] = Field(description='料理の材料')  # ★クラス変数: 型指定 でメンバ変数を定義\n",
    "    steps: list[str] = Field(description='手順')"
   ]
  },
  {
   "cell_type": "code",
   "execution_count": 2,
   "id": "ffe30a3d-63cf-4f8a-9465-a31d2ea7f28b",
   "metadata": {},
   "outputs": [
    {
     "data": {
      "text/plain": [
       "Recipe(ingredients=['いちご', 'みかん', 'りんご'], steps=['材料を切る', '材料を混ぜる', '材料を盛る'])"
      ]
     },
     "execution_count": 2,
     "metadata": {},
     "output_type": "execute_result"
    }
   ],
   "source": [
    "# こんな感じでオブジェクトを作れる\n",
    "recipe = Recipe(\n",
    "    ingredients=['いちご', 'みかん', 'りんご'],\n",
    "    steps=['材料を切る', '材料を混ぜる', '材料を盛る'],\n",
    ")\n",
    "\n",
    "recipe"
   ]
  },
  {
   "cell_type": "code",
   "execution_count": 3,
   "id": "5bec2455-6133-4df4-bcbd-158ffd3cabcc",
   "metadata": {},
   "outputs": [
    {
     "name": "stdout",
     "output_type": "stream",
     "text": [
      "{\"ingredients\":[\"いちご\",\"みかん\",\"りんご\"],\"steps\":[\"材料を切る\",\"材料を混ぜる\",\"材料を盛る\"]}\n",
      "\n",
      "\n",
      "{\n",
      "  \"ingredients\": [\n",
      "    \"いちご\",\n",
      "    \"みかん\",\n",
      "    \"りんご\"\n",
      "  ],\n",
      "  \"steps\": [\n",
      "    \"材料を切る\",\n",
      "    \"材料を混ぜる\",\n",
      "    \"材料を盛る\"\n",
      "  ]\n",
      "}\n"
     ]
    }
   ],
   "source": [
    "# JSON化\n",
    "json_str = recipe.json()\n",
    "print(json_str)\n",
    "\n",
    "# インデントや改行を入れるには少し工夫が必要\n",
    "import json\n",
    "json_str = json.dumps(recipe.model_dump(), indent=2, ensure_ascii=False)\n",
    "print('\\n\\n' + json_str)"
   ]
  },
  {
   "cell_type": "code",
   "execution_count": 4,
   "id": "25cd17b1-197d-4602-b0d5-6775cdb6735c",
   "metadata": {},
   "outputs": [
    {
     "data": {
      "text/plain": [
       "Recipe(ingredients=['いちご', 'みかん', 'りんご'], steps=['材料を切る', '材料を混ぜる', '材料を盛る'])"
      ]
     },
     "execution_count": 4,
     "metadata": {},
     "output_type": "execute_result"
    }
   ],
   "source": [
    "# JSONからの作成も簡単\n",
    "json_data = \"\"\"\n",
    "{\n",
    "  \"ingredients\": [\n",
    "    \"いちご\",\n",
    "    \"みかん\",\n",
    "    \"りんご\"\n",
    "  ],\n",
    "  \"steps\": [\n",
    "    \"材料を切る\",\n",
    "    \"材料を混ぜる\",\n",
    "    \"材料を盛る\"\n",
    "  ]\n",
    "}\n",
    "\"\"\"\n",
    "Recipe.parse_raw(json_data)"
   ]
  },
  {
   "cell_type": "markdown",
   "id": "673955a4-5df3-438a-94ef-0c650bf80564",
   "metadata": {},
   "source": [
    "---\n",
    "#### LangChainでの活用\n",
    "- PydanticのBaseModelを継承したデータクラスを作る\n",
    "- データクラスをもとに、プロンプトで出力形式を指定する文字列を生成\n",
    "- LLMの出力からデータクラスのオブジェクトに変換"
   ]
  },
  {
   "cell_type": "code",
   "execution_count": 5,
   "id": "d7b27de5-9f4d-4e46-a8a1-df0688a36f90",
   "metadata": {},
   "outputs": [
    {
     "name": "stdout",
     "output_type": "stream",
     "text": [
      "The output should be formatted as a JSON instance that conforms to the JSON schema below.\n",
      "\n",
      "As an example, for the schema {\"properties\": {\"foo\": {\"title\": \"Foo\", \"description\": \"a list of strings\", \"type\": \"array\", \"items\": {\"type\": \"string\"}}}, \"required\": [\"foo\"]}\n",
      "the object {\"foo\": [\"bar\", \"baz\"]} is a well-formatted instance of the schema. The object {\"properties\": {\"foo\": [\"bar\", \"baz\"]}} is not well-formatted.\n",
      "\n",
      "Here is the output schema:\n",
      "```\n",
      "{\"properties\": {\"ingredients\": {\"title\": \"Ingredients\", \"description\": \"\\u6599\\u7406\\u306e\\u6750\\u6599\", \"type\": \"array\", \"items\": {\"type\": \"string\"}}, \"steps\": {\"title\": \"Steps\", \"description\": \"\\u624b\\u9806\", \"type\": \"array\", \"items\": {\"type\": \"string\"}}}, \"required\": [\"ingredients\", \"steps\"]}\n",
      "```\n"
     ]
    }
   ],
   "source": [
    "# ★現状 pydanticの最新バージョンは2だが、PydanticOutputParserはバージョン1にしか対応していない\n",
    "from pydantic.v1.main import BaseModel, Field\n",
    "from langchain.output_parsers import PydanticOutputParser\n",
    "\n",
    "# ★Pydanticバージョン1 の BaseModelを継承したクラスを定義\n",
    "class Recipe(BaseModel):\n",
    "    ingredients: list[str] = Field(description='料理の材料')  # ★クラス変数: 型指定 でメンバ変数を定義\n",
    "    steps: list[str] = Field(description='手順')\n",
    "\n",
    "# パーサーを作成\n",
    "parser = PydanticOutputParser(pydantic_object=Recipe)  # ★定義したクラスを指定\n",
    "\n",
    "# プロンプトに埋め込む出力形式指定の文字列を取得\n",
    "format_instructions = parser.get_format_instructions()\n",
    "print(format_instructions)"
   ]
  },
  {
   "cell_type": "code",
   "execution_count": 6,
   "id": "4fbcbafa-91d3-4077-b68e-c49a32328f86",
   "metadata": {},
   "outputs": [
    {
     "name": "stdout",
     "output_type": "stream",
     "text": [
      "\n",
      "料理のレシピを教えてください。\n",
      "\n",
      "The output should be formatted as a JSON instance that conforms to the JSON schema below.\n",
      "\n",
      "As an example, for the schema {\"properties\": {\"foo\": {\"title\": \"Foo\", \"description\": \"a list of strings\", \"type\": \"array\", \"items\": {\"type\": \"string\"}}}, \"required\": [\"foo\"]}\n",
      "the object {\"foo\": [\"bar\", \"baz\"]} is a well-formatted instance of the schema. The object {\"properties\": {\"foo\": [\"bar\", \"baz\"]}} is not well-formatted.\n",
      "\n",
      "Here is the output schema:\n",
      "```\n",
      "{\"properties\": {\"ingredients\": {\"title\": \"Ingredients\", \"description\": \"\\u6599\\u7406\\u306e\\u6750\\u6599\", \"type\": \"array\", \"items\": {\"type\": \"string\"}}, \"steps\": {\"title\": \"Steps\", \"description\": \"\\u624b\\u9806\", \"type\": \"array\", \"items\": {\"type\": \"string\"}}}, \"required\": [\"ingredients\", \"steps\"]}\n",
      "```\n",
      "\n",
      "料理名: カレー\n",
      "\n"
     ]
    }
   ],
   "source": [
    "from langchain.prompts import PromptTemplate\n",
    "\n",
    "# プロンプト作成\n",
    "template = \"\"\"\n",
    "料理のレシピを教えてください。\n",
    "\n",
    "{format_instructions}\n",
    "\n",
    "料理名: {dish}\n",
    "\"\"\"\n",
    "\n",
    "prompt = PromptTemplate(\n",
    "    template=template,\n",
    "    input_variables=['dish'],\n",
    "    partial_variables={'format_instructions': format_instructions},\n",
    ")\n",
    "\n",
    "formatted_prompt = prompt.format(dish='カレー')\n",
    "print(formatted_prompt)"
   ]
  },
  {
   "cell_type": "code",
   "execution_count": 7,
   "id": "313ab0e5-6d70-476e-bf5c-70ba279ae631",
   "metadata": {},
   "outputs": [
    {
     "name": "stderr",
     "output_type": "stream",
     "text": [
      "/usr/local/lib/python3.12/site-packages/langchain_core/_api/deprecation.py:117: LangChainDeprecationWarning: The function `__call__` was deprecated in LangChain 0.1.7 and will be removed in 0.2.0. Use invoke instead.\n",
      "  warn_deprecated(\n"
     ]
    },
    {
     "name": "stdout",
     "output_type": "stream",
     "text": [
      "{\n",
      "  \"ingredients\": [\n",
      "    \"玉ねぎ\",\n",
      "    \"人参\",\n",
      "    \"じゃがいも\",\n",
      "    \"牛肉\",\n",
      "    \"カレールー\",\n",
      "    \"水\"\n",
      "  ],\n",
      "  \"steps\": [\n",
      "    \"1. 材料を準備する。\",\n",
      "    \"2. 玉ねぎ、人参、じゃがいもを切る。\",\n",
      "    \"3. 牛肉を炒める。\",\n",
      "    \"4. 野菜を加えて炒める。\",\n",
      "    \"5. 水を加えて煮込む。\",\n",
      "    \"6. カレールーを溶かして加える。\",\n",
      "    \"7. 煮込んで完成。\"\n",
      "  ]\n",
      "}\n"
     ]
    }
   ],
   "source": [
    "# LLMに投げる\n",
    "from langchain_openai.chat_models import ChatOpenAI\n",
    "from langchain.schema import HumanMessage\n",
    "\n",
    "chat = ChatOpenAI(\n",
    "    model_name='gpt-3.5-turbo',\n",
    "    temperature=0,\n",
    ")\n",
    "\n",
    "messages = [\n",
    "    HumanMessage(content=formatted_prompt),\n",
    "]\n",
    "\n",
    "result = chat(messages)\n",
    "print(result.content)"
   ]
  },
  {
   "cell_type": "code",
   "execution_count": 8,
   "id": "e210ed25-4371-4051-bbd9-fada83e0db2b",
   "metadata": {},
   "outputs": [
    {
     "name": "stdout",
     "output_type": "stream",
     "text": [
      "<class '__main__.Recipe'>\n",
      "ingredients=['玉ねぎ', '人参', 'じゃがいも', '牛肉', 'カレールー', '水'] steps=['1. 材料を準備する。', '2. 玉ねぎ、人参、じゃがいもを切る。', '3. 牛肉を炒める。', '4. 野菜を加えて炒める。', '5. 水を加えて煮込む。', '6. カレールーを溶かして加える。', '7. 煮込んで完成。']\n"
     ]
    }
   ],
   "source": [
    "# Pydanticのモデルインスタンスに変換\n",
    "recipe = parser.parse(result.content)\n",
    "print(type(recipe))\n",
    "print(recipe)"
   ]
  },
  {
   "cell_type": "markdown",
   "id": "16dc7dfb-a2c0-49ec-b863-bc1ac3d723ad",
   "metadata": {},
   "source": [
    "#### 注意点\n",
    "- 必ず変換可能な形式で返ってくるわけではない\n",
    "- ではどうするか？\n",
    "    - エラーハンドリングする\n",
    "    - LLMにテキスト修正してもらう OutputFixingParser, PetryWithErrorOutputParser 等を使う\n",
    "    - Function Callingを使って指定形式での出力確率を高める"
   ]
  },
  {
   "cell_type": "code",
   "execution_count": null,
   "id": "38121190-7ffc-4556-9290-fa9561120fa5",
   "metadata": {},
   "outputs": [],
   "source": []
  }
 ],
 "metadata": {
  "kernelspec": {
   "display_name": "Python 3 (ipykernel)",
   "language": "python",
   "name": "python3"
  },
  "language_info": {
   "codemirror_mode": {
    "name": "ipython",
    "version": 3
   },
   "file_extension": ".py",
   "mimetype": "text/x-python",
   "name": "python",
   "nbconvert_exporter": "python",
   "pygments_lexer": "ipython3",
   "version": "3.12.1"
  }
 },
 "nbformat": 4,
 "nbformat_minor": 5
}
